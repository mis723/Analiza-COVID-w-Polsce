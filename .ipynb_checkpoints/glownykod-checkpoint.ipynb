{
 "cells": [
  {
   "cell_type": "code",
   "execution_count": 1,
   "id": "94d14232",
   "metadata": {},
   "outputs": [],
   "source": [
    "# i tutaj zaczyna się przygoda!"
   ]
  },
  {
   "cell_type": "code",
   "execution_count": 2,
   "id": "e2f76ff3",
   "metadata": {},
   "outputs": [],
   "source": [
    "## Import Libraries\n",
    "import numpy as np\n",
    "import matplotlib.pyplot as plt\n",
    "import matplotlib\n",
    "import math\n",
    "import pandas as pd\n",
    "import io\n",
    "#import itertools\n",
    "import datetime"
   ]
  },
  {
   "cell_type": "code",
   "execution_count": 3,
   "id": "b6df2332",
   "metadata": {},
   "outputs": [],
   "source": [
    "# collecting data\n",
    "\n",
    "infections = pd.read_csv('pre11_2020_infected_data.txt', sep = \"\\t\", encoding = 'ANSI')\n",
    "deaths = pd.read_csv('pre11_2020_deaths_data.txt', sep = \"\\t\", encoding = 'ANSI')\n",
    "\n",
    "infections2 = pd.read_csv('post11_2020_infected_data.txt', sep = \"\\t\", encoding = 'ANSI')\n",
    "deaths2 = pd.read_csv('post11_2020_deaths_data.txt', sep = \"\\t\", encoding = 'ANSI')\n",
    "\n",
    "population = pd.read_csv('new_ludnosc2.txt', sep = '\\t', encoding = 'utf-8')"
   ]
  },
  {
   "cell_type": "code",
   "execution_count": 4,
   "id": "55ad4832",
   "metadata": {},
   "outputs": [],
   "source": [
    "def print_full(x):\n",
    "    pd.set_option('display.max_rows', len(x))\n",
    "    print(x)\n",
    "    pd.reset_option('display.max_rows')"
   ]
  },
  {
   "cell_type": "code",
   "execution_count": null,
   "id": "4f1983aa",
   "metadata": {},
   "outputs": [],
   "source": []
  },
  {
   "cell_type": "code",
   "execution_count": 5,
   "id": "019bc2ea",
   "metadata": {},
   "outputs": [],
   "source": [
    "def print_how_many(x, rows):\n",
    "    pd.set_option('display.max_rows', rows)\n",
    "    print(x)\n",
    "    pd.reset_option('display.max_rows')"
   ]
  },
  {
   "cell_type": "code",
   "execution_count": 6,
   "id": "76dcb43e",
   "metadata": {},
   "outputs": [],
   "source": [
    "# editing and sorting dataframes\n",
    "\n",
    "def edit_pop(x):\n",
    "    x = x.replace(\"\\t\", \"\")\n",
    "    x = x.replace(\" \", \"\")\n",
    "    x = x.replace(\"Woj.\", \"\")\n",
    "    return x\n",
    "\n",
    "def edit_inf(x):\n",
    "    x = x.replace(\"Powiat \", \"\")\n",
    "    x = x.replace(\" \", \"\")\n",
    "    x = x.replace(\"st.\", \"\")\n",
    "    return x\n",
    "\n",
    "population['new_district'] = population['district'].apply(edit_pop)\n",
    "population['new_province'] = population['province'].apply(edit_pop)\n",
    "population = population.drop(columns=['district'])\n",
    "population = population.drop(columns=['province'])\n",
    "population = population.rename(columns = {'new_district':'district'})\n",
    "population = population.rename(columns = {'new_province':'province'})\n",
    "population['district'] = population['district'].str.lower()\n",
    "population['province'] = population['province'].str.lower()\n",
    "#population = population.sort_values('district')\n",
    "\n",
    "infections['date'] = pd.to_datetime(infections['date'], format = '%d.%m.%Y') \n",
    "infections['district'] = infections['district'].apply(edit_inf)\n",
    "infections['province'] = infections['province'].apply(edit_inf)\n",
    "infections['district'] = infections['district'].str.lower()\n",
    "infections['province'] = infections['province'].str.lower()\n",
    "infections = infections.sort_values(by=['district', 'date'])\n",
    "\n",
    "infections2['date'] = pd.to_datetime(infections2['date'], format = '%d.%m.%Y') \n",
    "infections2['district'] = infections2['district'].apply(edit_inf)\n",
    "infections2['province'] = infections2['province'].apply(edit_inf)\n",
    "infections2['district'] = infections2['district'].str.lower()\n",
    "infections2['province'] = infections2['province'].str.lower()\n",
    "infections2 = infections2[infections2.district != 'sumazpowiatów']\n",
    "infections2 = infections2.sort_values(by=['district', 'date'])\n",
    "\n",
    "deaths['date'] = pd.to_datetime(deaths['date'], format = '%d.%m.%Y') \n",
    "deaths['district'] = deaths['district'].apply(edit_inf)\n",
    "deaths['province'] = deaths['province'].apply(edit_inf)\n",
    "deaths['district'] = deaths['district'].str.lower()\n",
    "deaths['province'] = deaths['province'].str.lower()\n",
    "deaths = deaths.sort_values(by=['district', 'date'])\n",
    "\n",
    "deaths2['date'] = pd.to_datetime(deaths2['date'], format = '%d.%m.%Y') \n",
    "deaths2['district'] = deaths2['district'].apply(edit_inf)\n",
    "deaths2['province'] = deaths2['province'].apply(edit_inf)\n",
    "deaths2['district'] = deaths2['district'].str.lower()\n",
    "deaths2['province'] = deaths2['province'].str.lower()\n",
    "deaths2 = deaths2[deaths2.district != 'sumazpowiatów']\n",
    "deaths2 = deaths2.sort_values(by=['district', 'date'])"
   ]
  },
  {
   "cell_type": "code",
   "execution_count": 26,
   "id": "6e57ff4c",
   "metadata": {},
   "outputs": [
    {
     "name": "stdout",
     "output_type": "stream",
     "text": [
      "             date            province        district  infected_total  \\\n",
      "0      2020-03-04  kujawsko-pomorskie  aleksandrowski             0.0   \n",
      "1      2020-03-05  kujawsko-pomorskie  aleksandrowski             0.0   \n",
      "2      2020-03-06  kujawsko-pomorskie  aleksandrowski             0.0   \n",
      "3      2020-03-07  kujawsko-pomorskie  aleksandrowski             0.0   \n",
      "4      2020-03-08  kujawsko-pomorskie  aleksandrowski             0.0   \n",
      "...           ...                 ...             ...             ...   \n",
      "275750 2022-02-02             śląskie        żywiecki         19898.0   \n",
      "275751 2022-02-03             śląskie        żywiecki         20156.0   \n",
      "275752 2022-02-04             śląskie        żywiecki         20291.0   \n",
      "275753 2022-02-05             śląskie        żywiecki         20465.0   \n",
      "275754 2022-02-06             śląskie        żywiecki         20573.0   \n",
      "\n",
      "        population  new_infected  pandemic_day  \n",
      "0            54891           NaN             0  \n",
      "1            54891           0.0             0  \n",
      "2            54891           0.0             0  \n",
      "3            54891           0.0             0  \n",
      "4            54891           0.0             0  \n",
      "...            ...           ...           ...  \n",
      "275750      152199         247.0             0  \n",
      "275751      152199         258.0             0  \n",
      "275752      152199         135.0             0  \n",
      "275753      152199         174.0             0  \n",
      "275754      152199         108.0             0  \n",
      "\n",
      "[275755 rows x 7 columns]\n",
      "-3 days +00:00:00\n",
      "-3\n",
      "4\n"
     ]
    }
   ],
   "source": [
    "print(infections)\n",
    "date1 = \"04.03.2020\"\n",
    "date2 = \"07.03.2020\"\n",
    "date1 = pd.to_datetime(date1, format = '%d.%m.%Y')\n",
    "date2 = pd.to_datetime(date2, format = '%d.%m.%Y')\n",
    "\n",
    "dni = date1-date2\n",
    "print(dni)\n",
    "table = [1, 2, 3, 4, 5, 6]\n",
    "print(dni.days)\n",
    "print(table[(date2-date1).days])\n"
   ]
  },
  {
   "cell_type": "code",
   "execution_count": 8,
   "id": "8bf8e69f",
   "metadata": {},
   "outputs": [],
   "source": [
    "# which_district = \"m.warszawa\"\n",
    "# fig, ax = plt.subplots()\n",
    "# plt.plot_date(infections[infections.district == which_district][\"date\"], infections[infections.district == which_district][\"infected_total\"])\n",
    "# plt.xlabel('Data')\n",
    "# #plt.xticks([])\n",
    "# plt.ylabel('Liczba zakażeń')\n",
    "# every_nth = 3\n",
    "# for n, label in enumerate(ax.xaxis.get_ticklabels()):\n",
    "#     if n % every_nth != 0:\n",
    "#         label.set_visible(False)\n",
    "# plt.title(\"Warszawa\")"
   ]
  },
  {
   "cell_type": "code",
   "execution_count": 9,
   "id": "fc328ea9",
   "metadata": {},
   "outputs": [],
   "source": [
    "# which_district = \"m.warszawa\"\n",
    "# fig, ax = plt.subplots()\n",
    "# plt.plot_date(deaths[deaths.district == which_district][\"date\"], deaths[deaths.district == which_district][\"dead_total\"])\n",
    "# plt.xlabel('Data')\n",
    "# plt.ylabel('Liczba śmierci')\n",
    "# every_nth = 3\n",
    "# for n, label in enumerate(ax.xaxis.get_ticklabels()):\n",
    "#     if n % every_nth != 0:\n",
    "#         label.set_visible(False)\n",
    "# plt.title(\"Warszawa\")"
   ]
  },
  {
   "cell_type": "code",
   "execution_count": 10,
   "id": "21633699",
   "metadata": {},
   "outputs": [],
   "source": [
    "infections['population'] = 0\n",
    "deaths['population'] = 0\n",
    "infections2['population'] = 0\n",
    "deaths2['population'] = 0"
   ]
  },
  {
   "cell_type": "code",
   "execution_count": 11,
   "id": "63a2da46",
   "metadata": {},
   "outputs": [],
   "source": [
    "# dodawanie populacji do df: infections i deaths + przepisywanie ostatniej valid wartości\n",
    "last_infections = []\n",
    "last_deaths = []\n",
    "\n",
    "for ind in population.index:\n",
    "    inf_cond = (infections['district'] == population['district'][ind]) & (infections['province'] == population['province'][ind])\n",
    "    death_cond = (deaths['district'] == population['district'][ind]) & (deaths['province'] == population['province'][ind])\n",
    "    infections.loc[inf_cond, 'population'] = population['population'][ind]\n",
    "    deaths.loc[death_cond, 'population'] = population['population'][ind]\n",
    "    \n",
    "    inf_last_valid_idx = infections.loc[inf_cond].apply(pd.Series.last_valid_index)[3]\n",
    "    death_last_valid_idx = deaths.loc[death_cond].apply(pd.Series.last_valid_index)[3]\n",
    "    \n",
    "    last_infections.append(infections.loc[inf_cond, 'infected_total'].loc[inf_last_valid_idx])\n",
    "    last_deaths.append(deaths.loc[death_cond, 'dead_total'].loc[death_last_valid_idx])\n",
    "    \n",
    "    infections.loc[inf_cond, 'new_infected'] = infections.loc[inf_cond, 'infected_total'].diff()\n",
    "    deaths.loc[death_cond, 'new_dead'] = deaths.loc[death_cond, 'dead_total'].diff()\n",
    "    \n",
    "    "
   ]
  },
  {
   "cell_type": "code",
   "execution_count": 12,
   "id": "2dc95e44",
   "metadata": {},
   "outputs": [],
   "source": [
    "# #testowanko\n",
    "\n",
    "# cond1 = (infections['district'] == population['district'][1]) & (infections['province'] == population['province'][1])\n",
    "# cond2 = (infections['district'] == population['district'][2]) & (infections['province'] == population['province'][2])\n",
    "# death_cond1 = (deaths['district'] == population['district'][1]) & (deaths['province'] == population['province'][1])\n",
    "# death_cond2 = (deaths['district'] == population['district'][2]) & (deaths['province'] == population['province'][2])\n",
    "\n",
    "# # print(infections.loc[cond1, 'infected_total'])\n",
    "# print_full(infections.loc[cond1, 'infected_total'])\n",
    "\n",
    "# #print_full(deaths.loc[death_cond1, 'dead_total'])\n",
    "# #print_full(deaths.loc[death_cond1, 'dead_total'])\n",
    "\n",
    "# # print(int(infections.loc[cond1, 'infected_total'].tail(1)))\n",
    "# # print(float(deaths.loc[death_cond1, 'dead_total'].tail(1)))\n",
    "# # print(deaths.loc[death_cond1, 'dead_total'].iloc[-1]) #ZARAZ SPRÓBUJĘ NA TO ZAMIENIĆ U GÓRY\n",
    "# # print(infections.loc[cond1, 'infected_total'].iloc[-2])\n",
    "\n",
    "# print(infections.loc[cond1].apply(pd.Series.last_valid_index))\n",
    "# #print(deaths.loc[death_cond1].apply(pd.Series.last_valid_index))\n",
    "\n",
    "# last_valid_idx = deaths.loc[death_cond1].apply(pd.Series.last_valid_index)[3]\n",
    "# last_valid_idx_inf = infections.loc[cond1].apply(pd.Series.last_valid_index)[3]\n",
    "\n",
    "# print(last_valid_idx_inf)\n",
    "# print(infections.loc[cond1, 'infected_total'].loc[last_valid_idx_inf])\n",
    "# #print(deaths.loc[death_cond1, 'dead_total'].loc[266])\n",
    "# #print(deaths.loc[death_cond1, 'dead_total'].iloc[last_valid_idx+1])\n",
    "\n",
    "# #print(deaths.loc[death_cond1, 'dead_total'].iloc[-1])"
   ]
  },
  {
   "cell_type": "code",
   "execution_count": 13,
   "id": "e1b903d7",
   "metadata": {},
   "outputs": [],
   "source": [
    "# print(last_infections)\n",
    "# print(last_deaths)"
   ]
  },
  {
   "cell_type": "code",
   "execution_count": 14,
   "id": "e909c245",
   "metadata": {},
   "outputs": [
    {
     "name": "stdout",
     "output_type": "stream",
     "text": [
      "           date            province        district  infected_total  \\\n",
      "8480 2020-03-04  kujawsko-pomorskie  aleksandrowski             0.0   \n",
      "8481 2020-03-05  kujawsko-pomorskie  aleksandrowski             0.0   \n",
      "8482 2020-03-06  kujawsko-pomorskie  aleksandrowski             0.0   \n",
      "8483 2020-03-07  kujawsko-pomorskie  aleksandrowski             0.0   \n",
      "8484 2020-03-08  kujawsko-pomorskie  aleksandrowski             0.0   \n",
      "...         ...                 ...             ...             ...   \n",
      "8740 2020-11-19  kujawsko-pomorskie  aleksandrowski          1722.0   \n",
      "8741 2020-11-20  kujawsko-pomorskie  aleksandrowski          1773.0   \n",
      "8742 2020-11-21  kujawsko-pomorskie  aleksandrowski          1849.0   \n",
      "8743 2020-11-22  kujawsko-pomorskie  aleksandrowski          1876.0   \n",
      "8744 2020-11-23  kujawsko-pomorskie  aleksandrowski          1900.0   \n",
      "\n",
      "      population  new_infected  \n",
      "8480       54891           NaN  \n",
      "8481       54891           0.0  \n",
      "8482       54891           0.0  \n",
      "8483       54891           0.0  \n",
      "8484       54891           0.0  \n",
      "...          ...           ...  \n",
      "8740       54891           6.0  \n",
      "8741       54891          51.0  \n",
      "8742       54891          76.0  \n",
      "8743       54891          27.0  \n",
      "8744       54891          24.0  \n",
      "\n",
      "[265 rows x 6 columns]\n"
     ]
    }
   ],
   "source": [
    "# infections = infections.sort_values(by=['population', 'date'])\n",
    "# print(infections)\n",
    "print(infections.loc[infections['district'] == \"aleksandrowski\"])"
   ]
  },
  {
   "cell_type": "code",
   "execution_count": 15,
   "id": "84ccf7fb",
   "metadata": {},
   "outputs": [
    {
     "name": "stdout",
     "output_type": "stream",
     "text": [
      "             date             province        district  new_infected  \\\n",
      "14531  2020-11-24   kujawsko-pomorskie  aleksandrowski           8.0   \n",
      "100314 2020-11-24            podlaskie     augustowski          12.0   \n",
      "141755 2020-11-24  warmińsko-mazurskie     bartoszycki          30.0   \n",
      "44083  2020-11-24              łódzkie    bełchatowski          16.0   \n",
      "25581  2020-11-24            lubelskie         bialski          37.0   \n",
      "...           ...                  ...             ...           ...   \n",
      "42752  2020-11-24             lubuskie          żarski          23.0   \n",
      "24255  2020-11-24   kujawsko-pomorskie         żniński          13.0   \n",
      "83302  2020-11-24          mazowieckie      żuromiński           5.0   \n",
      "83742  2020-11-24          mazowieckie     żyrardowski          16.0   \n",
      "133776 2020-11-24              śląskie        żywiecki          13.0   \n",
      "\n",
      "        population  infected_total  \n",
      "14531        54891          1908.0  \n",
      "100314       57651           875.0  \n",
      "141755       56562          1188.0  \n",
      "44083       112443          3035.0  \n",
      "25581       109958          2495.0  \n",
      "...            ...             ...  \n",
      "42752        95423          1664.0  \n",
      "24255        69886          1220.0  \n",
      "83302        38202           554.0  \n",
      "83742        75370          1391.0  \n",
      "133776      152199          4711.0  \n",
      "\n",
      "[396 rows x 6 columns]\n"
     ]
    }
   ],
   "source": [
    "# tutaj probujemy zrobic cumsum poprawnie no i dodaje populację do dataframe'u jak wyżej\n",
    "\n",
    "#infections2 = infections2.sort_values(by=['population', 'date'])\n",
    "#deaths2 = deaths2.sort_values(by=['population', 'date'])\n",
    "\n",
    "for ind in population.index:\n",
    "    inf_cond = (infections2['district'] == population['district'][ind]) & (infections2['province'] == population['province'][ind])\n",
    "    death_cond = (deaths2['district'] == population['district'][ind]) & (deaths2['province'] == population['province'][ind])\n",
    "    \n",
    "    infections2.loc[inf_cond, 'population'] = population['population'][ind]\n",
    "    deaths2.loc[death_cond, 'population'] = population['population'][ind]\n",
    "    \n",
    "    infections2.loc[inf_cond, 'infected_total'] = infections2.loc[inf_cond, 'new_infected'].cumsum()\n",
    "    deaths2.loc[death_cond, 'dead_total'] = deaths2.loc[death_cond, 'new_death'].cumsum()\n",
    "    \n",
    "    infections2.loc[inf_cond, 'infected_total'] = infections2.loc[inf_cond, 'infected_total'] + last_infections[ind]\n",
    "    deaths2.loc[death_cond, 'dead_total'] = deaths2.loc[death_cond, 'dead_total'] + last_deaths[ind]\n",
    "\n",
    "#infections2 = infections2.sort_values(by=['population', 'date'])\n",
    "#infections2 = infections2.sort_values(by=['population'])\n",
    "#deaths2 = deaths2.sort_values(by=['population', 'date'])\n",
    "#deaths2 = deaths2.sort_values(by=['population'])\n",
    "\n",
    "\n",
    "# print(infections2)\n",
    "print(infections2.loc[infections2['date'] == \"2020-11-24\"])"
   ]
  },
  {
   "cell_type": "code",
   "execution_count": 16,
   "id": "008f7406",
   "metadata": {},
   "outputs": [
    {
     "data": {
      "text/plain": [
       "Text(0.5, 1.0, '01.09.2021r.')"
      ]
     },
     "execution_count": 16,
     "metadata": {},
     "output_type": "execute_result"
    },
    {
     "data": {
      "image/png": "[encoded data removed]",
      "text/plain": [
       "<Figure size 432x288 with 1 Axes>"
      ]
     },
     "metadata": {
      "needs_background": "light"
     },
     "output_type": "display_data"
    }
   ],
   "source": [
    "x = infections2.loc[infections2['date'] == '2021-09-01', 'population']\n",
    "y = infections2.loc[infections2['date'] == '2021-09-01', 'infected_total']\n",
    "\n",
    "plt.plot(x, y, 'bo')\n",
    "plt.yscale(\"log\")\n",
    "plt.xscale(\"log\")\n",
    "plt.xlabel('Populacja')\n",
    "plt.ylabel('Liczba zakażeń')\n",
    "plt.title(\"01.09.2021r.\")"
   ]
  },
  {
   "cell_type": "code",
   "execution_count": 17,
   "id": "1160c05d",
   "metadata": {},
   "outputs": [],
   "source": [
    "#łączę dataframe'y\n",
    "# infections = pd.concat([infections, infections2], verify_integrity=True)\n",
    "# deaths = pd.concat([deaths, deaths2], verify_integrity=True)\n",
    "# infections = pd.concat([infections, infections2], ignore_index=True)\n",
    "# deaths = pd.concat([deaths, deaths2], ignore_index=True)\n",
    "infections = pd.concat([infections, infections2]).reset_index(drop=True)\n",
    "deaths = pd.concat([deaths, deaths2]).reset_index(drop=True)"
   ]
  },
  {
   "cell_type": "code",
   "execution_count": 18,
   "id": "950bbffe",
   "metadata": {},
   "outputs": [],
   "source": [
    "# print(deaths)\n",
    "# print(deaths.loc[deaths['district'] == \"augustowski\"])\n",
    "# print(deaths.loc[deaths['district'] == \"aleksandrowski\"])\n",
    "# print(infections.loc[infections['district'] == \"dolnośląski\"])"
   ]
  },
  {
   "cell_type": "code",
   "execution_count": 19,
   "id": "27149a8b",
   "metadata": {},
   "outputs": [
    {
     "data": {
      "text/plain": [
       "Text(0.5, 1.0, 'Warszawa')"
      ]
     },
     "execution_count": 19,
     "metadata": {},
     "output_type": "execute_result"
    },
    {
     "data": {
      "image/png": "[encoded data removed]",
      "text/plain": [
       "<Figure size 432x288 with 1 Axes>"
      ]
     },
     "metadata": {
      "needs_background": "light"
     },
     "output_type": "display_data"
    }
   ],
   "source": [
    "which_district = \"m.warszawa\"\n",
    "fig, ax = plt.subplots()\n",
    "plt.plot_date(infections[infections.district == which_district][\"date\"], infections[infections.district == which_district][\"new_infected\"])\n",
    "plt.xlabel('Data')\n",
    "#plt.xticks([])\n",
    "plt.ylabel('Liczba zakażeń')\n",
    "every_nth = 3\n",
    "for n, label in enumerate(ax.xaxis.get_ticklabels()):\n",
    "    if n % every_nth != 0:\n",
    "        label.set_visible(False)\n",
    "plt.title(\"Warszawa\")"
   ]
  },
  {
   "cell_type": "code",
   "execution_count": 27,
   "id": "c2dc53a6",
   "metadata": {},
   "outputs": [
    {
     "ename": "AttributeError",
     "evalue": "'Series' object has no attribute 'days'",
     "output_type": "error",
     "traceback": [
      "\u001b[1;31m---------------------------------------------------------------------------\u001b[0m",
      "\u001b[1;31mAttributeError\u001b[0m                            Traceback (most recent call last)",
      "\u001b[1;32mC:\\Users\\MICHA~1\\AppData\\Local\\Temp/ipykernel_19936/1138998327.py\u001b[0m in \u001b[0;36m<module>\u001b[1;34m\u001b[0m\n\u001b[0;32m     34\u001b[0m             \u001b[0mfirst_day_inf\u001b[0m\u001b[1;33m.\u001b[0m\u001b[0mappend\u001b[0m\u001b[1;33m(\u001b[0m\u001b[0mdates_list\u001b[0m\u001b[1;33m[\u001b[0m\u001b[1;36m0\u001b[0m\u001b[1;33m]\u001b[0m\u001b[1;33m)\u001b[0m\u001b[1;33m\u001b[0m\u001b[1;33m\u001b[0m\u001b[0m\n\u001b[0;32m     35\u001b[0m \u001b[1;33m\u001b[0m\u001b[0m\n\u001b[1;32m---> 36\u001b[1;33m         \u001b[0minfections\u001b[0m\u001b[1;33m.\u001b[0m\u001b[0mloc\u001b[0m\u001b[1;33m[\u001b[0m\u001b[0mcond\u001b[0m\u001b[1;33m,\u001b[0m \u001b[1;34m'pandemic_day'\u001b[0m\u001b[1;33m]\u001b[0m \u001b[1;33m=\u001b[0m \u001b[1;33m(\u001b[0m\u001b[0minfections\u001b[0m\u001b[1;33m.\u001b[0m\u001b[0mloc\u001b[0m\u001b[1;33m[\u001b[0m\u001b[0mcond\u001b[0m\u001b[1;33m,\u001b[0m \u001b[1;34m'date'\u001b[0m\u001b[1;33m]\u001b[0m \u001b[1;33m-\u001b[0m \u001b[0mdates_list\u001b[0m\u001b[1;33m[\u001b[0m\u001b[1;36m0\u001b[0m\u001b[1;33m]\u001b[0m\u001b[1;33m)\u001b[0m\u001b[1;33m.\u001b[0m\u001b[0mdays\u001b[0m\u001b[1;33m\u001b[0m\u001b[1;33m\u001b[0m\u001b[0m\n\u001b[0m\u001b[0;32m     37\u001b[0m         \u001b[1;31m#print(dates)\u001b[0m\u001b[1;33m\u001b[0m\u001b[1;33m\u001b[0m\u001b[0m\n\u001b[0;32m     38\u001b[0m \u001b[1;33m\u001b[0m\u001b[0m\n",
      "\u001b[1;32mI:\\anaconda\\lib\\site-packages\\pandas\\core\\generic.py\u001b[0m in \u001b[0;36m__getattr__\u001b[1;34m(self, name)\u001b[0m\n\u001b[0;32m   5485\u001b[0m         ):\n\u001b[0;32m   5486\u001b[0m             \u001b[1;32mreturn\u001b[0m \u001b[0mself\u001b[0m\u001b[1;33m[\u001b[0m\u001b[0mname\u001b[0m\u001b[1;33m]\u001b[0m\u001b[1;33m\u001b[0m\u001b[1;33m\u001b[0m\u001b[0m\n\u001b[1;32m-> 5487\u001b[1;33m         \u001b[1;32mreturn\u001b[0m \u001b[0mobject\u001b[0m\u001b[1;33m.\u001b[0m\u001b[0m__getattribute__\u001b[0m\u001b[1;33m(\u001b[0m\u001b[0mself\u001b[0m\u001b[1;33m,\u001b[0m \u001b[0mname\u001b[0m\u001b[1;33m)\u001b[0m\u001b[1;33m\u001b[0m\u001b[1;33m\u001b[0m\u001b[0m\n\u001b[0m\u001b[0;32m   5488\u001b[0m \u001b[1;33m\u001b[0m\u001b[0m\n\u001b[0;32m   5489\u001b[0m     \u001b[1;32mdef\u001b[0m \u001b[0m__setattr__\u001b[0m\u001b[1;33m(\u001b[0m\u001b[0mself\u001b[0m\u001b[1;33m,\u001b[0m \u001b[0mname\u001b[0m\u001b[1;33m:\u001b[0m \u001b[0mstr\u001b[0m\u001b[1;33m,\u001b[0m \u001b[0mvalue\u001b[0m\u001b[1;33m)\u001b[0m \u001b[1;33m->\u001b[0m \u001b[1;32mNone\u001b[0m\u001b[1;33m:\u001b[0m\u001b[1;33m\u001b[0m\u001b[1;33m\u001b[0m\u001b[0m\n",
      "\u001b[1;31mAttributeError\u001b[0m: 'Series' object has no attribute 'days'"
     ]
    }
   ],
   "source": [
    "# tworzenie listy nr. indeksów dla pierwszego dnia pandemii dla danego powiatu dla zakażeń\n",
    "infections['pandemic_day'] = 0\n",
    "min_value_inf = 10  # dokładnie to liczymy od kiedy ta wartość zostanie przekroczona\n",
    "first_day_inf = [] \n",
    "t = []\n",
    "for ind in population.index:\n",
    "    bool_infected = []\n",
    "    cond = (infections['district'] == population['district'][ind]) & (infections['province'] == population['province'][ind])\n",
    "    one_district = infections.loc[cond]\n",
    "    if not one_district.empty:\n",
    "        #print(population['district'][ind])\n",
    "        t.append(population['district'][ind])\n",
    "        one_district = one_district.sort_values(by=['date'])\n",
    "        #print(one_district.loc[one_district['infected_total'] > min_value_inf])\n",
    "        condition = one_district['infected_total'] > min_value_inf\n",
    "        indices = one_district.index[condition]\n",
    "#         indices_list = indices.tolist()\n",
    "#         #print(indices_list)\n",
    "#         if indices_list:\n",
    "#             first_day_inf.append(indices_list[0])\n",
    "#         else:\n",
    "#             indices_list[0] = one_district.index.to_list()[-1]\n",
    "#             first_day_inf.append(indices_list[0])\n",
    "        \n",
    "#         infections.loc[cond, 'pandemic_day'] = infections.index[cond] - indices_list[0]\n",
    "        \n",
    "        dates = one_district.loc[condition, 'date']\n",
    "        dates_list = dates.tolist()\n",
    "        #print(dates_list)\n",
    "        if dates_list:\n",
    "            first_day_inf.append(dates_list[0])\n",
    "        else:\n",
    "            dates_list[0] = one_district.loc[condition, 'date'].to_list()[-1]\n",
    "            first_day_inf.append(dates_list[0])\n",
    "            \n",
    "        infections.loc[cond, 'pandemic_day'] = (infections.loc[cond, 'date'] - dates_list[0]).days\n",
    "        #print(dates)\n",
    "\n",
    "\n",
    "\n",
    "#print(first_day_inf)\n",
    "#print(len(first_day_inf))\n"
   ]
  },
  {
   "cell_type": "code",
   "execution_count": null,
   "id": "b78a38df",
   "metadata": {},
   "outputs": [],
   "source": [
    "# tworzenie listy nr. indeksów dla pierwszego dnia pandemii dla danego powiatu dla zgonów\n",
    "deaths['pandemic_day'] = 0\n",
    "min_value_deaths = 1 # dokładnie to liczymy od kiedy ta wartość zostanie przekroczona\n",
    "first_day_deaths = []\n",
    "t = []\n",
    "for ind in population.index:\n",
    "    bool_dead = []\n",
    "    cond = (deaths['district'] == population['district'][ind]) & (deaths['province'] == population['province'][ind])\n",
    "    one_district = deaths.loc[cond]\n",
    "    if not one_district.empty:\n",
    "        #print(population['district'][ind])\n",
    "        t.append(population['district'][ind])\n",
    "        one_district = one_district.sort_values(by=['date'])\n",
    "        #print(one_district.loc[one_district['dead_total'] > min_value])\n",
    "        condition = one_district['dead_total'] > min_value_deaths\n",
    "        indices = one_district.index[condition]\n",
    "        indices_list = indices.tolist()\n",
    "        #print(indices_list)\n",
    "        if indices_list:\n",
    "            first_index = indices_list[0]\n",
    "            first_day_deaths.append(first_index)\n",
    "        else:\n",
    "            first_index = one_district.index.to_list()[-1]\n",
    "            first_day_deaths.append(first_index)\n",
    "\n",
    "        deaths.loc[cond, 'pandemic_day'] = deaths.index[cond] - first_index\n",
    "\n",
    "#print(first_day_deaths)\n",
    "#print(len(first_day_deaths))\n"
   ]
  },
  {
   "cell_type": "code",
   "execution_count": null,
   "id": "9af1b91b",
   "metadata": {},
   "outputs": [],
   "source": [
    "# dopasowanko prostej w skali log-log i wyplotowanie\n",
    "\n",
    "#264 dni z danych\n",
    "# do prezentacji \n",
    "\n",
    "def fit_n_plot_loglog(x, y, title, yscale_label):\n",
    "\n",
    "    plt.plot(x, y, 'bo')\n",
    "    plt.title(title)\n",
    "    plt.yscale(\"log\")\n",
    "    plt.xscale(\"log\")\n",
    "    plt.xlabel('Populacja')\n",
    "    plt.ylabel(yscale_label)\n",
    "\n",
    "    idx = np.isnan(y)\n",
    "    xlog = np.log10(x)\n",
    "    ylog = np.log10(y)\n",
    "\n",
    "    a, b = np.polyfit(xlog[~idx],ylog[~idx],1)\n",
    "    #print(a)\n",
    "    #print(b)\n",
    "    plt.plot(x, pow(x, a) * pow(10, b), color='red')\n",
    "    return a, b"
   ]
  },
  {
   "cell_type": "code",
   "execution_count": null,
   "id": "db6c2927",
   "metadata": {},
   "outputs": [],
   "source": [
    "def fit_loglog(x, y):\n",
    "\n",
    "    idx = np.isnan(y)\n",
    "    xlog = np.log10(x)\n",
    "    ylog = np.log10(y)\n",
    "\n",
    "    a, b = np.polyfit(xlog[~idx],ylog[~idx],1)\n",
    "    return a"
   ]
  },
  {
   "cell_type": "code",
   "execution_count": null,
   "id": "d5e4c4c9",
   "metadata": {},
   "outputs": [],
   "source": [
    "x = deaths.loc[deaths['date'] == '2020-09-01', 'population']\n",
    "y = deaths.loc[deaths['date'] == '2020-09-01', 'dead_total']\n",
    "\n",
    "plt.plot(x, y, 'bo')\n",
    "plt.yscale(\"log\")\n",
    "plt.xscale(\"log\")\n",
    "plt.xlabel('Populacja')\n",
    "plt.ylabel('Liczba śmierci')\n",
    "plt.title(\"01.09.2020r.\")"
   ]
  },
  {
   "cell_type": "code",
   "execution_count": null,
   "id": "992915af",
   "metadata": {},
   "outputs": [],
   "source": [
    "x = infections.loc[infections['date'] == '2020-09-01', 'population']\n",
    "y = infections.loc[infections['date'] == '2020-09-01', 'infected_total']\n",
    "\n",
    "plt.plot(x, y, 'bo')\n",
    "plt.yscale(\"log\")\n",
    "plt.xscale(\"log\")\n",
    "plt.xlabel('Populacja')\n",
    "plt.ylabel('Liczba zakażeń')\n",
    "plt.title(\"01.09.2020r.\")"
   ]
  },
  {
   "cell_type": "code",
   "execution_count": null,
   "id": "63ee0833",
   "metadata": {},
   "outputs": [],
   "source": [
    "# Ile śmierci w pierwszy dzień pandemii\n",
    "x = deaths.loc[deaths['pandemic_day'] == 0, 'population']\n",
    "y = deaths.loc[deaths['pandemic_day'] == 0, 'dead_total']\n",
    "\n",
    "plt.plot(x, y, 'bo')\n",
    "plt.xlabel('Populacja')\n",
    "plt.ylabel('Liczba zgonów')\n",
    "\n",
    "#tutaj widać, że przez wybrakowane dane na początku, niektóre powiaty w pierwszy dzień mają dużo zakażonych \n",
    "#(zweryfikowałem, tak jest w danych)"
   ]
  },
  {
   "cell_type": "code",
   "execution_count": null,
   "id": "345c4c8a",
   "metadata": {},
   "outputs": [],
   "source": [
    "#print_full(infections.loc[infections['district'] == \"dolnośląskie\"])\n",
    "#print_full(infections.loc[infections['pandemic_day'] == 0])\n",
    "#print_full(infections.loc[infections['district'] == \"augustowski\"])\n",
    "print_full(infections.loc[infections['district'] == \"dolnośląskie\"])"
   ]
  },
  {
   "cell_type": "code",
   "execution_count": null,
   "id": "fb0e3432",
   "metadata": {},
   "outputs": [],
   "source": [
    "# Ile zakażonych w pierwszy dzień pandemii\n",
    "x = infections.loc[infections['pandemic_day'] == 0, 'population']\n",
    "y = infections.loc[infections['pandemic_day'] == 0, 'infected_total']\n",
    "\n",
    "plt.plot(x, y, 'bo')\n",
    "plt.xlabel('Populacja')\n",
    "plt.ylabel('Liczba zakażeń')\n",
    "\n",
    "#tutaj widać, że przez wybrakowane dane na początku, niektóre powiaty w pierwszy dzień mają dużo zakażonych \n",
    "#(zweryfikowałem, tak jest w danych)"
   ]
  },
  {
   "cell_type": "code",
   "execution_count": null,
   "id": "1fe15d23",
   "metadata": {},
   "outputs": [],
   "source": [
    "#264 dni z danych\n",
    "# do prezentacji \n",
    "x = deaths.loc[deaths['pandemic_day'] == 200, 'population']\n",
    "y = deaths.loc[deaths['pandemic_day'] == 200, 'dead_total']\n",
    "\n",
    "fit_n_plot_loglog(x, y, \"200 dni od 2 zgonów\", \"Liczba zgonów\")\n"
   ]
  },
  {
   "cell_type": "code",
   "execution_count": null,
   "id": "e0fdeb78",
   "metadata": {},
   "outputs": [],
   "source": [
    "#264 dni z danych\n",
    "# do prezentacji \n",
    "x = infections.loc[infections['pandemic_day'] == 200, 'population']\n",
    "y = infections.loc[infections['pandemic_day'] == 200, 'infected_total']\n",
    "\n",
    "fit_n_plot_loglog(x, y, \"200 dni od 10 przypadków\", \"Liczba zakażeń\")\n"
   ]
  },
  {
   "cell_type": "code",
   "execution_count": null,
   "id": "1c469379",
   "metadata": {},
   "outputs": [],
   "source": [
    "print_full(infections.loc[infections['district'] == \"aleksandrowski\"])"
   ]
  },
  {
   "cell_type": "code",
   "execution_count": null,
   "id": "11215682",
   "metadata": {},
   "outputs": [],
   "source": [
    "#\n",
    "days_num = 250\n",
    "wykladniki = []\n",
    "for i in range(days_num):\n",
    "    x = infections.loc[infections['pandemic_day'] == i, 'population']\n",
    "    y = infections.loc[infections['pandemic_day'] == i, 'infected_total']\n",
    "    a = fit_loglog(x, y)\n",
    "    wykladniki.append(a)\n",
    "\n",
    "print(len(wykladniki)) \n",
    "    \n",
    "plt.scatter(range(days_num), wykladniki)"
   ]
  },
  {
   "cell_type": "code",
   "execution_count": null,
   "id": "d36fea4a",
   "metadata": {},
   "outputs": [],
   "source": [
    "#\n",
    "days_num = 400\n",
    "wykladniki = []\n",
    "for i in range(days_num):\n",
    "    x = deaths.loc[deaths['pandemic_day'] == i, 'population']\n",
    "    y = deaths.loc[deaths['pandemic_day'] == i, 'dead_total']\n",
    "    a = fit_loglog(x, y)\n",
    "    wykladniki.append(a)\n",
    "\n",
    "print(len(wykladniki)) \n",
    "    \n",
    "plt.scatter(range(days_num), wykladniki)"
   ]
  },
  {
   "cell_type": "code",
   "execution_count": null,
   "id": "1d3df73c",
   "metadata": {},
   "outputs": [],
   "source": []
  },
  {
   "cell_type": "code",
   "execution_count": null,
   "id": "3d58b5f5",
   "metadata": {},
   "outputs": [],
   "source": [
    "# do prezentacji \n",
    "x = deaths.loc[deaths['pandemic_day'] == 200, 'population']\n",
    "y = deaths.loc[deaths['pandemic_day'] == 200, 'dead_total']\n",
    "\n",
    "y = y / x\n",
    "plt.plot(x, y, 'bo')\n",
    "plt.title(\"200 dni od 2 przypadków\")\n",
    "plt.yscale(\"log\")\n",
    "plt.xscale(\"log\")\n",
    "plt.xlabel('Populacja')\n",
    "plt.ylabel('Liczba zgonów per capita')"
   ]
  },
  {
   "cell_type": "code",
   "execution_count": null,
   "id": "20189447",
   "metadata": {},
   "outputs": [],
   "source": [
    "# do prezentacji \n",
    "x = infections.loc[infections['pandemic_day'] == 200, 'population']\n",
    "y = infections.loc[infections['pandemic_day'] == 200, 'infected_total']\n",
    "\n",
    "y = y / x\n",
    "plt.plot(x, y, 'bo')\n",
    "plt.title(\"200 dni od 2 przypadków\")\n",
    "plt.yscale(\"log\")\n",
    "plt.xscale(\"log\")\n",
    "plt.xlabel('Populacja')\n",
    "plt.ylabel('Liczba zakażeń per capita')"
   ]
  },
  {
   "cell_type": "code",
   "execution_count": null,
   "id": "a6b1f0f7",
   "metadata": {},
   "outputs": [],
   "source": []
  },
  {
   "cell_type": "code",
   "execution_count": null,
   "id": "a26201de",
   "metadata": {},
   "outputs": [],
   "source": [
    "def compare(s, t):\n",
    "    t = list(t)   # make a mutable copy\n",
    "    try:\n",
    "        for elem in s:\n",
    "            t.remove(elem)\n",
    "    except ValueError:\n",
    "        return False\n",
    "    return t\n",
    "\n",
    "s = infections.loc[infections['date'] == '2020-08-25', 'district'].to_list()\n",
    "\n",
    "print(compare(s, t))\n",
    "\n",
    "#ok czyli jest git tutaj, wszystkie powiaty bierę pod uwagę"
   ]
  },
  {
   "cell_type": "code",
   "execution_count": null,
   "id": "d07642fa",
   "metadata": {},
   "outputs": [],
   "source": [
    "#posumowac dane z powiatów do województw\n",
    "# last_province_name = \"\"\n",
    "# for ind in population.index:\n",
    "#     suma = 0\n",
    "#     one_province = infections.loc[(infections['province'] == population['province'][ind]) & (infections['date'] == '2020-08-25')]\n",
    "#     if not one_province.empty:\n",
    "#         if not (one_province['province'].iloc[0] == last_province_name):\n",
    "#             last_province_name = one_province['province'].iloc[0]\n",
    "#             #print(one_province)\n",
    "#             suma += one_province['population'].sum()\n",
    "#             whole_province = one_province.loc[one_province['province'] == one_province['district']]\n",
    "#             suma /= 2\n",
    "#             print(str(one_province['province'].iloc[0]))\n",
    "#             print(\"Z danych: \"+ str(whole_province['population'].iloc[0]))\n",
    "#             print(\"Posumowane: \" + str(suma))\n",
    "#             print()\n",
    "        "
   ]
  },
  {
   "cell_type": "code",
   "execution_count": null,
   "id": "b8436e49",
   "metadata": {},
   "outputs": [],
   "source": [
    "# Okej, obczaiłem. Jest rozbieżność pomiędzy danymi dot. zakażeń w tym pliku excelowskim, a tymi w tekstowym. \n",
    "# W tekstowym, skąd brałem dane nie ma wszystkich powiatów, np. w województwie kujawsko-pomorskim jest tylko powiat aleksanrowsk\n",
    "# "
   ]
  },
  {
   "cell_type": "code",
   "execution_count": null,
   "id": "058c83bc",
   "metadata": {},
   "outputs": [],
   "source": []
  },
  {
   "cell_type": "code",
   "execution_count": null,
   "id": "b76f8e02",
   "metadata": {},
   "outputs": [],
   "source": []
  }
 ],
 "metadata": {
  "kernelspec": {
   "display_name": "Python 3 (ipykernel)",
   "language": "python",
   "name": "python3"
  },
  "language_info": {
   "codemirror_mode": {
    "name": "ipython",
    "version": 3
   },
   "file_extension": ".py",
   "mimetype": "text/x-python",
   "name": "python",
   "nbconvert_exporter": "python",
   "pygments_lexer": "ipython3",
   "version": "3.9.7"
  }
 },
 "nbformat": 4,
 "nbformat_minor": 5
}

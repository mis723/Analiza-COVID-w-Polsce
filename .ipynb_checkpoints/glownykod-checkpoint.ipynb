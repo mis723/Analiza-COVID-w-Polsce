{
 "cells": [
  {
   "cell_type": "code",
   "execution_count": 1,
   "id": "94d14232",
   "metadata": {},
   "outputs": [],
   "source": [
    "# i tutaj zaczyna się przygoda!"
   ]
  },
  {
   "cell_type": "code",
   "execution_count": null,
   "id": "e2f76ff3",
   "metadata": {},
   "outputs": [],
   "source": [
    "import numpy as np\n",
    "from matplotlib import pyplot as plt\n",
    "import math"
   ]
  },
  {
   "cell_type": "code",
   "execution_count": 2,
   "id": "f9aa5ea6",
   "metadata": {},
   "outputs": [
    {
     "data": {
      "text/plain": [
       "15"
      ]
     },
     "execution_count": 2,
     "metadata": {},
     "output_type": "execute_result"
    }
   ],
   "source": [
    "3*5"
   ]
  },
  {
   "cell_type": "code",
   "execution_count": 1,
   "id": "ee609c57",
   "metadata": {},
   "outputs": [],
   "source": [
    "# Nie rozumiem, czemu to nie wykrywa :("
   ]
  },
  {
   "cell_type": "code",
   "execution_count": null,
   "id": "9f81d076",
   "metadata": {},
   "outputs": [],
   "source": [
    "# ateraz?"
   ]
  },
  {
   "cell_type": "code",
   "execution_count": null,
   "id": "fa1682ba",
   "metadata": {},
   "outputs": [],
   "source": [
    "    "
   ]
  }
 ],
 "metadata": {
  "kernelspec": {
   "display_name": "Python 3 (ipykernel)",
   "language": "python",
   "name": "python3"
  },
  "language_info": {
   "codemirror_mode": {
    "name": "ipython",
    "version": 3
   },
   "file_extension": ".py",
   "mimetype": "text/x-python",
   "name": "python",
   "nbconvert_exporter": "python",
   "pygments_lexer": "ipython3",
   "version": "3.9.7"
  }
 },
 "nbformat": 4,
 "nbformat_minor": 5
}

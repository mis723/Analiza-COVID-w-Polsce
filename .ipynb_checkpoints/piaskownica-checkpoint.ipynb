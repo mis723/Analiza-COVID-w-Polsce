{
 "cells": [
  {
   "cell_type": "code",
   "execution_count": 1,
   "id": "4a8d9133",
   "metadata": {},
   "outputs": [],
   "source": [
    "import numpy as np\n",
    "import matplotlib.pyplot as plt\n",
    "from scipy import stats\n",
    "import pandas as pd\n",
    "from sklearn.linear_model import LinearRegression\n",
    "import statsmodels.api as sm\n",
    "from scipy.optimize import curve_fit"
   ]
  },
  {
   "cell_type": "code",
   "execution_count": 2,
   "id": "32450798",
   "metadata": {},
   "outputs": [],
   "source": [
    "%run funkcje.ipynb"
   ]
  },
  {
   "cell_type": "code",
   "execution_count": 3,
   "id": "2388c608",
   "metadata": {},
   "outputs": [],
   "source": [
    "# x = np.array([5, 15, 25, 35, 45, 55]).reshape((-1, 1))\n",
    "# #x = np.array([5, 15, 25, 35, 45, 55])\n",
    "# y = np.array([5, 20, 14, 32, 22, 38])\n",
    "\n",
    "# model = LinearRegression(fit_intercept = True).fit(x, y)\n",
    "\n",
    "# r_sq = model.score(x, y)\n",
    "# print('coefficient of determination:', r_sq)\n",
    "# print('intercept:', model.intercept_)\n",
    "# print('slope:', model.coef_[0])\n",
    "# y_pred = model.predict(x)\n",
    "# print('predicted response:', y_pred, sep='\\n')\n",
    "\n",
    "# plt.plot(x, y, 'bo', markersize=3)\n",
    "# plt.plot(x, y_pred, color='red')"
   ]
  },
  {
   "cell_type": "code",
   "execution_count": 4,
   "id": "690a6459",
   "metadata": {},
   "outputs": [],
   "source": [
    "import warnings\n",
    "warnings.simplefilter(action='ignore', category=FutureWarning)"
   ]
  },
  {
   "cell_type": "code",
   "execution_count": 5,
   "id": "38be5127",
   "metadata": {},
   "outputs": [
    {
     "name": "stdout",
     "output_type": "stream",
     "text": [
      "[5.87187269 0.17009801]\n",
      "predicted response:\n",
      "[ 8.33333333 13.73333333 19.13333333 24.53333333 29.93333333 35.33333333\n",
      " 41.81333333]\n",
      "coefficient of determination: 0.7158756137479543\n",
      "adjusted coefficient of determination: 0.6448445171849428\n",
      "regression coefficients (intercept, slope): [5.63333333 0.54      ]\n",
      "[[ 1.  5.]\n",
      " [ 1. 15.]\n",
      " [ 1. 25.]\n",
      " [ 1. 35.]\n",
      " [ 1. 45.]\n",
      " [ 1. 55.]\n",
      " [ 1. 67.]]\n"
     ]
    },
    {
     "data": {
      "text/plain": [
       "[<matplotlib.lines.Line2D at 0x206b2a4de20>]"
      ]
     },
     "execution_count": 5,
     "metadata": {},
     "output_type": "execute_result"
    },
    {
     "data": {
      "image/png": "[encoded data removed]",
      "text/plain": [
       "<Figure size 432x288 with 1 Axes>"
      ]
     },
     "metadata": {
      "needs_background": "light"
     },
     "output_type": "display_data"
    }
   ],
   "source": [
    "x = np.array([5, 15, 25, 35, 45, 55, 67])\n",
    "y = np.array([5, 20, 14, 32, 22, 38, float(\"NaN\")])\n",
    "idx = np.isnan(y)\n",
    "x = sm.add_constant(x) #comment to not include intercept\n",
    "model = sm.OLS(y[~idx],x[~idx])\n",
    "results = model.fit()\n",
    "# results.summary()\n",
    "\n",
    "print(results.bse)\n",
    "\n",
    "print('predicted response:', results.predict(x), sep='\\n')\n",
    "print('coefficient of determination:', results.rsquared)\n",
    "print('adjusted coefficient of determination:', results.rsquared_adj)\n",
    "print('regression coefficients (intercept, slope):', results.params)\n",
    "print(x)\n",
    "\n",
    "plt.plot(x[:,1], y, 'bo', markersize=3)\n",
    "plt.plot(x[:,1], results.predict(x), color='red')"
   ]
  },
  {
   "cell_type": "code",
   "execution_count": 6,
   "id": "0313f186",
   "metadata": {},
   "outputs": [
    {
     "name": "stdout",
     "output_type": "stream",
     "text": [
      "[ 1. 15.]\n"
     ]
    }
   ],
   "source": [
    "x\n",
    "print(x[1])"
   ]
  },
  {
   "cell_type": "code",
   "execution_count": 7,
   "id": "f96ce880",
   "metadata": {},
   "outputs": [],
   "source": [
    "def fit_n_plot_linlin_scipy(x, y, title, xscale_tabel, yscale_label):\n",
    "\n",
    "    plt.plot(x, y, 'bo', markersize=3)\n",
    "    plt.title(title)\n",
    "    plt.xlabel(xscale_tabel)\n",
    "    plt.ylabel(yscale_label)\n",
    "    #plt.xscale(\"log\")\n",
    "\n",
    "    idx = np.isnan(y)\n",
    "    \n",
    "    slope, intercept, r_value, p_value, std_err = stats.linregress(x[~idx],y[~idx])\n",
    "    plt.plot(x, slope * x + intercept, color='red')\n",
    "    return slope, intercept, r_value, p_value, std_err"
   ]
  },
  {
   "cell_type": "code",
   "execution_count": 8,
   "id": "79fb2628",
   "metadata": {},
   "outputs": [],
   "source": [
    "# dopasowanko prostej w skali log-log i wyplotowanie\n",
    "\n",
    "def fit_n_plot_loglog_scipy(x, y, title, xscale_label, yscale_label):\n",
    "\n",
    "    plt.plot(x, y, 'bo', markersize=3)\n",
    "    plt.title(title)\n",
    "    plt.yscale(\"log\")\n",
    "    plt.xscale(\"log\")\n",
    "    plt.xlabel(xscale_label)\n",
    "    plt.ylabel(yscale_label)\n",
    "\n",
    "    idx = np.isnan(y)\n",
    "    xlog = np.log10(x)\n",
    "    ylog = np.log10(y)\n",
    "    \n",
    "    slope, intercept, r_value, p_value, std_err = stats.linregress(xlog[~idx],ylog[~idx])\n",
    "    plt.plot(x, pow(x, slope) * pow(10, intercept), color='red')\n",
    "    return slope, intercept, r_value, p_value, std_err"
   ]
  },
  {
   "cell_type": "code",
   "execution_count": 9,
   "id": "0b88b20f",
   "metadata": {},
   "outputs": [],
   "source": [
    "x = np.array(range(1, 21), dtype='float64')\n",
    "y = x+3\n",
    "rng = np.random.default_rng()\n",
    "y += 4 * rng.random(20)"
   ]
  },
  {
   "cell_type": "code",
   "execution_count": 10,
   "id": "a28841e6",
   "metadata": {},
   "outputs": [
    {
     "data": {
      "text/plain": [
       "(1.034486759328612,\n",
       " 4.761994741218011,\n",
       " 0.9730289048644951,\n",
       " 6.504660153251075e-13,\n",
       " 0.057806803677157875)"
      ]
     },
     "execution_count": 10,
     "metadata": {},
     "output_type": "execute_result"
    },
    {
     "data": {
      "image/png": "[encoded data removed]",
      "text/plain": [
       "<Figure size 432x288 with 1 Axes>"
      ]
     },
     "metadata": {
      "needs_background": "light"
     },
     "output_type": "display_data"
    }
   ],
   "source": [
    "fit_n_plot_linlin_scipy(x, y, 'bla', 'bla', 'bla')"
   ]
  },
  {
   "cell_type": "code",
   "execution_count": 11,
   "id": "ada8f615",
   "metadata": {},
   "outputs": [
    {
     "data": {
      "text/plain": [
       "(0.5761244932984788,\n",
       " 0.621832119112465,\n",
       " 0.9618471091940053,\n",
       " 1.4163193580665717e-11,\n",
       " 0.038625164922661076)"
      ]
     },
     "execution_count": 11,
     "metadata": {},
     "output_type": "execute_result"
    },
    {
     "data": {
      "image/png": "[encoded data removed]",
      "text/plain": [
       "<Figure size 432x288 with 1 Axes>"
      ]
     },
     "metadata": {
      "needs_background": "light"
     },
     "output_type": "display_data"
    }
   ],
   "source": [
    "fit_n_plot_loglog_scipy(x, y, 'bla', 'bla', 'bla')"
   ]
  },
  {
   "cell_type": "code",
   "execution_count": 12,
   "id": "39ad6ef3",
   "metadata": {},
   "outputs": [
    {
     "name": "stdout",
     "output_type": "stream",
     "text": [
      "nan\n"
     ]
    }
   ],
   "source": [
    "a = 1\n",
    "b = 2\n",
    "c = float(\"NaN\")\n",
    "print(np.mean((a, b, c)))"
   ]
  },
  {
   "cell_type": "code",
   "execution_count": 13,
   "id": "bd0d3c1b",
   "metadata": {},
   "outputs": [
    {
     "name": "stdout",
     "output_type": "stream",
     "text": [
      "0         NaN\n",
      "1    2.000000\n",
      "2    4.000000\n",
      "3    6.333333\n",
      "4         NaN\n",
      "dtype: float64\n",
      "[nan, 2.0, 4.0, 6.333333333333333, nan]\n",
      "[4.0, 6.333333333333333, nan]\n"
     ]
    }
   ],
   "source": [
    "numbers = [1, 2, 3, 7, 9]\n",
    "window_size = 3\n",
    "\n",
    "numbers_series = pd.Series(numbers)\n",
    "windows = numbers_series.rolling(window_size, center=True)\n",
    "moving_averages = windows.mean()\n",
    "\n",
    "moving_averages_list = moving_averages.tolist()\n",
    "without_nans = moving_averages_list[window_size - 1:]\n",
    "print(moving_averages)\n",
    "print(moving_averages_list)\n",
    "print(without_nans)"
   ]
  },
  {
   "cell_type": "code",
   "execution_count": 14,
   "id": "0e52a788",
   "metadata": {},
   "outputs": [],
   "source": [
    "def fit_n_plot_lin_n_log_statsmodels(x, y, title, xscale_label, yscale_label):\n",
    "    \n",
    "    idx = np.isnan(y)\n",
    "    y = y[~idx]\n",
    "    x = x[~idx]\n",
    "    plt.plot(x, y, 'bo', markersize=3, label='dane')\n",
    "    plt.title(title)\n",
    "    plt.yscale(\"log\")\n",
    "    plt.xscale(\"log\")\n",
    "    plt.xlabel(xscale_label)\n",
    "    plt.ylabel(yscale_label)\n",
    "    \n",
    "    #x = sm.add_constant(x[~idx]) #comment to not include intercept\n",
    "    model1 = sm.OLS(y,x)\n",
    "    results1 = model1.fit()\n",
    "    plt.plot(x, results1.predict(x), color='red', label='liniowa, $R^2 = $'+\"{:.2f}\".format(results1.rsquared))\n",
    "    \n",
    "    xlog = np.log10(x)\n",
    "    ylog = np.log10(y)\n",
    "    x = sm.add_constant(x)\n",
    "    xlog = sm.add_constant(xlog)\n",
    "    \n",
    "    model2 = sm.OLS(ylog,xlog)\n",
    "    results2 = model2.fit()\n",
    "    y_pred2 = pow(10, results2.predict(xlog))\n",
    "    \n",
    "    plt.plot(x.loc[:, x.columns != 'const'], pow(10, results2.predict(xlog)), color='black', label='log, $R^2 = $'+\"{:.2f}\".format(results2.rsquared)+', a = '+ \"{:.2f}\".format(results2.params[1]))\n",
    "    plt.legend()\n",
    "    \n",
    "    # edit returns\n",
    "    return results2.params[1], results2.params[0], results2.bse[1], results2.rsquared, results2.rsquared_adj, results2.pvalues[0]"
   ]
  },
  {
   "cell_type": "code",
   "execution_count": 15,
   "id": "716858df",
   "metadata": {},
   "outputs": [
    {
     "name": "stdout",
     "output_type": "stream",
     "text": [
      "8.0\n",
      "7.0\n",
      "1.8309604213490607\n",
      "0.046405030073065345\n"
     ]
    },
    {
     "data": {
      "image/png": "[encoded data removed]",
      "text/plain": [
       "<Figure size 432x288 with 1 Axes>"
      ]
     },
     "metadata": {
      "needs_background": "light"
     },
     "output_type": "display_data"
    }
   ],
   "source": [
    "x = np.array(range(1, 10), dtype='float64')\n",
    "y = x+3\n",
    "rng = np.random.default_rng()\n",
    "y += 4 * rng.random(9)\n",
    "\n",
    "plt.plot(x, y, 'bo', markersize=3, label='dane')\n",
    "plt.yscale(\"log\")\n",
    "plt.xscale(\"log\")\n",
    "\n",
    "#x = sm.add_constant(x[~idx]) #comment to not include intercept\n",
    "model1 = sm.OLS(y,x)\n",
    "results1 = model1.fit()\n",
    "plt.plot(x, results1.predict(x), color='red', label='liniowa, $R^2 = $'+\"{:.2f}\".format(results1.rsquared))\n",
    "\n",
    "xlog = np.log10(x)\n",
    "ylog = np.log10(y)\n",
    "x = sm.add_constant(x)\n",
    "xlog = sm.add_constant(xlog)\n",
    "\n",
    "model2 = sm.OLS(ylog,xlog)\n",
    "results2 = model2.fit()\n",
    "y_pred2 = pow(10, results2.predict(xlog))\n",
    "\n",
    "plt.plot(x[:, 1], pow(10, results2.predict(xlog)), color='black', label='log, $R^2 = $'+\"{:.2f}\".format(results2.rsquared)+', a = '+ \"{:.2f}\".format(results2.params[1]))\n",
    "plt.legend()\n",
    "\n",
    "# print(results1.resid)\n",
    "# print(results2.resid)\n",
    "\n",
    "print(results1.df_resid)\n",
    "print(results2.df_resid)\n",
    "\n",
    "print((results1.ssr/results1.df_resid)**(1/2))\n",
    "print((results2.ssr/results2.df_resid)**(1/2))\n",
    "\n",
    "\n",
    "\n",
    "\n",
    "# edit returns\n",
    "#return results2.params[1], results2.params[0], results2.bse[1], results2.rsquared, results2.rsquared_adj, results2.pvalues[0]\n"
   ]
  },
  {
   "cell_type": "code",
   "execution_count": 16,
   "id": "8d2cabc6",
   "metadata": {},
   "outputs": [
    {
     "ename": "NameError",
     "evalue": "name 'func' is not defined",
     "output_type": "error",
     "traceback": [
      "\u001b[1;31m---------------------------------------------------------------------------\u001b[0m",
      "\u001b[1;31mNameError\u001b[0m                                 Traceback (most recent call last)",
      "\u001b[1;32mC:\\Users\\MICHA~1\\AppData\\Local\\Temp/ipykernel_3360/941817765.py\u001b[0m in \u001b[0;36m<module>\u001b[1;34m\u001b[0m\n\u001b[0;32m     19\u001b[0m     \u001b[0mssr3\u001b[0m \u001b[1;33m=\u001b[0m \u001b[0mnp\u001b[0m\u001b[1;33m.\u001b[0m\u001b[0msum\u001b[0m\u001b[1;33m(\u001b[0m\u001b[0mpow\u001b[0m\u001b[1;33m(\u001b[0m\u001b[0my\u001b[0m\u001b[1;33m-\u001b[0m\u001b[0mpower_func\u001b[0m\u001b[1;33m(\u001b[0m\u001b[0mx\u001b[0m\u001b[1;33m,\u001b[0m \u001b[1;33m*\u001b[0m\u001b[0mpopt\u001b[0m\u001b[1;33m)\u001b[0m\u001b[1;33m,\u001b[0m \u001b[1;36m2\u001b[0m\u001b[1;33m)\u001b[0m\u001b[1;33m)\u001b[0m\u001b[1;33m\u001b[0m\u001b[1;33m\u001b[0m\u001b[0m\n\u001b[0;32m     20\u001b[0m     \u001b[0mS_pow\u001b[0m \u001b[1;33m=\u001b[0m \u001b[1;33m(\u001b[0m\u001b[0mssr3\u001b[0m\u001b[1;33m/\u001b[0m\u001b[1;33m(\u001b[0m\u001b[0mx\u001b[0m\u001b[1;33m.\u001b[0m\u001b[0msize\u001b[0m\u001b[1;33m-\u001b[0m\u001b[1;36m2\u001b[0m\u001b[1;33m)\u001b[0m\u001b[1;33m)\u001b[0m\u001b[1;33m**\u001b[0m\u001b[1;33m(\u001b[0m\u001b[1;36m1\u001b[0m\u001b[1;33m/\u001b[0m\u001b[1;36m2\u001b[0m\u001b[1;33m)\u001b[0m\u001b[1;33m\u001b[0m\u001b[1;33m\u001b[0m\u001b[0m\n\u001b[1;32m---> 21\u001b[1;33m     \u001b[0mplt\u001b[0m\u001b[1;33m.\u001b[0m\u001b[0mplot\u001b[0m\u001b[1;33m(\u001b[0m\u001b[0mx\u001b[0m\u001b[1;33m,\u001b[0m \u001b[0mfunc\u001b[0m\u001b[1;33m(\u001b[0m\u001b[0mx\u001b[0m\u001b[1;33m,\u001b[0m \u001b[1;33m*\u001b[0m\u001b[0mpopt\u001b[0m\u001b[1;33m)\u001b[0m\u001b[1;33m,\u001b[0m \u001b[0mcolor\u001b[0m\u001b[1;33m=\u001b[0m\u001b[1;34m'green'\u001b[0m\u001b[1;33m,\u001b[0m \u001b[0mlabel\u001b[0m\u001b[1;33m=\u001b[0m\u001b[1;34m'pow, $S_{med} = $'\u001b[0m\u001b[1;33m+\u001b[0m\u001b[1;34m\"{:.2f}\"\u001b[0m\u001b[1;33m.\u001b[0m\u001b[0mformat\u001b[0m\u001b[1;33m(\u001b[0m\u001b[0mS_pow\u001b[0m\u001b[1;33m)\u001b[0m\u001b[1;33m+\u001b[0m\u001b[1;34m', $\\lambda$ = '\u001b[0m\u001b[1;33m+\u001b[0m \u001b[1;34m\"{:.2f}\"\u001b[0m\u001b[1;33m.\u001b[0m\u001b[0mformat\u001b[0m\u001b[1;33m(\u001b[0m\u001b[0mpopt\u001b[0m\u001b[1;33m[\u001b[0m\u001b[1;36m1\u001b[0m\u001b[1;33m]\u001b[0m\u001b[1;33m)\u001b[0m\u001b[1;33m)\u001b[0m\u001b[1;33m\u001b[0m\u001b[1;33m\u001b[0m\u001b[0m\n\u001b[0m\u001b[0;32m     22\u001b[0m \u001b[1;33m\u001b[0m\u001b[0m\n\u001b[0;32m     23\u001b[0m     \u001b[0mxlog\u001b[0m \u001b[1;33m=\u001b[0m \u001b[0mnp\u001b[0m\u001b[1;33m.\u001b[0m\u001b[0mlog10\u001b[0m\u001b[1;33m(\u001b[0m\u001b[0mx\u001b[0m\u001b[1;33m)\u001b[0m\u001b[1;33m\u001b[0m\u001b[1;33m\u001b[0m\u001b[0m\n",
      "\u001b[1;31mNameError\u001b[0m: name 'func' is not defined"
     ]
    },
    {
     "data": {
      "image/png": "[encoded data removed]",
      "text/plain": [
       "<Figure size 432x288 with 1 Axes>"
      ]
     },
     "metadata": {
      "needs_background": "light"
     },
     "output_type": "display_data"
    }
   ],
   "source": [
    "for i in range(100):\n",
    "    x = np.array(range(1, 10), dtype='float64')\n",
    "    y = x+3\n",
    "    rng = np.random.default_rng()\n",
    "    y += 4 * rng.random(9)\n",
    "\n",
    "    plt.plot(x, y, 'bo', markersize=3, label='dane')\n",
    "    plt.yscale(\"log\")\n",
    "    plt.xscale(\"log\")\n",
    "\n",
    "    #x = sm.add_constant(x[~idx]) #comment to not include intercept\n",
    "    model1 = sm.OLS(y,x)\n",
    "    results1 = model1.fit()\n",
    "    S_lin = (results1.ssr/results1.df_resid)**(1/2)\n",
    "    plt.plot(x, results1.predict(x), color='red', label='liniowa, $S_{med} = $'+\"{:.2f}\".format(S_lin))\n",
    "\n",
    "    popt, pcov = curve_fit(power_func, x, y)\n",
    "    #print(popt[1])\n",
    "    ssr3 = np.sum(pow(y-power_func(x, *popt), 2))\n",
    "    S_pow = (ssr3/(x.size-2))**(1/2)\n",
    "    plt.plot(x, func(x, *popt), color='green', label='pow, $S_{med} = $'+\"{:.2f}\".format(S_pow)+', $\\lambda$ = '+ \"{:.2f}\".format(popt[1]))\n",
    "\n",
    "    xlog = np.log10(x)\n",
    "    ylog = np.log10(y)\n",
    "    x = sm.add_constant(x)\n",
    "    xlog = sm.add_constant(xlog)\n",
    "\n",
    "    model2 = sm.OLS(ylog,xlog)\n",
    "    results2 = model2.fit()\n",
    "    y_pred2 = pow(10, results2.predict(xlog))\n",
    "    ssr2 = np.sum(pow(y-y_pred2, 2))\n",
    "    S_log = (ssr2/results2.df_resid)**(1/2)\n",
    "\n",
    "    plt.plot(x[:, 1], y_pred2, color='black', label='log, $S_{med} = $'+\"{:.2f}\".format(S_log)+', $\\lambda$ = '+ \"{:.2f}\".format(results2.params[1]))\n",
    "\n",
    "    if (S_log < S_pow):\n",
    "        print(i)\n",
    "\n",
    "\n",
    "\n",
    "\n",
    "\n",
    "\n",
    "\n",
    "\n",
    "plt.legend()\n",
    "\n",
    "\n"
   ]
  },
  {
   "cell_type": "code",
   "execution_count": null,
   "id": "0c832cae",
   "metadata": {},
   "outputs": [],
   "source": [
    "def func(x, a, b, c):\n",
    "    return a * np.exp(-b * x) + c\n",
    "\n",
    "xdata = np.linspace(0, 4, 50)\n",
    "y = func(xdata, 2.5, 1.3, 0.5)\n",
    "rng = np.random.default_rng()\n",
    "y_noise = 0.2 * rng.normal(size=xdata.size)\n",
    "ydata = y + y_noise\n",
    "plt.plot(xdata, ydata, 'bo', label='data')\n",
    "\n",
    "popt, pcov = curve_fit(func, xdata, ydata)\n",
    "print(popt)\n",
    "plt.plot(xdata, func(xdata, *popt), 'r-',\n",
    "         label='fit: a=%5.3f, b=%5.3f, c=%5.3f' % tuple(popt))\n",
    "\n",
    "popt, pcov = curve_fit(func, xdata, ydata, bounds=(0, [3., 1., 0.5]))\n",
    "print(popt)\n",
    "plt.plot(xdata, func(xdata, *popt), 'g--',\n",
    "         label='fit: a=%5.3f, b=%5.3f, c=%5.3f' % tuple(popt))\n",
    "\n",
    "plt.xlabel('x')\n",
    "plt.ylabel('y')\n",
    "plt.legend()\n",
    "plt.show()"
   ]
  },
  {
   "cell_type": "code",
   "execution_count": null,
   "id": "78d86245",
   "metadata": {},
   "outputs": [],
   "source": [
    "for i in range(100):\n",
    "    x = np.array(range(1, 10), dtype='float64')\n",
    "    y = x*2\n",
    "    rng = np.random.default_rng()\n",
    "    y += 4 * rng.random(9)\n",
    "\n",
    "    x = pd.DataFrame(x, columns=['xx'])\n",
    "    y = pd.DataFrame(y, columns=['yy'])\n",
    "\n",
    "    lmbda, B, lmbda_err, R2_lin, R2_log, S_lin, S_log, S_lin_div, S_log_div, S_lin_med, S_log_med = fit_n_plot_lin_n_log_statsmodels(x.xx, y.yy,\n",
    "                                  \"title\", \n",
    "                                  \"x\", \"y\")\n",
    "    #print(\"S_lin_med = \"+str(S_lin_med))\n",
    "    #print(\"S_log_med = \"+str(S_log_med))\n",
    "    if (S_lin_med <= S_log_med):\n",
    "        print(\"Iteracja\"+str(i))\n",
    "        print(\"S_lin_med = \"+str(S_lin_med))\n",
    "        print(\"S_log_med = \"+str(S_log_med))"
   ]
  },
  {
   "cell_type": "code",
   "execution_count": 17,
   "id": "3cd2f22e",
   "metadata": {},
   "outputs": [
    {
     "name": "stdout",
     "output_type": "stream",
     "text": [
      "    xx\n",
      "0  1.0\n",
      "1  2.0\n",
      "2  3.0\n",
      "3  4.0\n",
      "4  5.0\n",
      "5  6.0\n",
      "6  7.0\n",
      "7  8.0\n",
      "8  9.0\n"
     ]
    },
    {
     "ename": "ValueError",
     "evalue": "not enough values to unpack (expected 11, got 6)",
     "output_type": "error",
     "traceback": [
      "\u001b[1;31m---------------------------------------------------------------------------\u001b[0m",
      "\u001b[1;31mValueError\u001b[0m                                Traceback (most recent call last)",
      "\u001b[1;32mC:\\Users\\MICHA~1\\AppData\\Local\\Temp/ipykernel_3360/2513445602.py\u001b[0m in \u001b[0;36m<module>\u001b[1;34m\u001b[0m\n\u001b[0;32m      8\u001b[0m \u001b[1;33m\u001b[0m\u001b[0m\n\u001b[0;32m      9\u001b[0m \u001b[0mprint\u001b[0m\u001b[1;33m(\u001b[0m\u001b[0mx\u001b[0m\u001b[1;33m)\u001b[0m\u001b[1;33m\u001b[0m\u001b[1;33m\u001b[0m\u001b[0m\n\u001b[1;32m---> 10\u001b[1;33m lmbda, B, lmbda_err, R2_lin, R2_log, S_lin, S_log, S_lin_div, S_log_div, S_lin_med, S_log_med = fit_n_plot_lin_n_log_statsmodels(x.xx, y.yy,\n\u001b[0m\u001b[0;32m     11\u001b[0m                               \u001b[1;34m\"title\"\u001b[0m\u001b[1;33m,\u001b[0m\u001b[1;33m\u001b[0m\u001b[1;33m\u001b[0m\u001b[0m\n\u001b[0;32m     12\u001b[0m                               \"x\", \"y\")\n",
      "\u001b[1;31mValueError\u001b[0m: not enough values to unpack (expected 11, got 6)"
     ]
    },
    {
     "data": {
      "image/png": "[encoded data removed]",
      "text/plain": [
       "<Figure size 432x288 with 1 Axes>"
      ]
     },
     "metadata": {
      "needs_background": "light"
     },
     "output_type": "display_data"
    }
   ],
   "source": [
    "x = np.array(range(1, 10), dtype='float64')\n",
    "y = x*2\n",
    "rng = np.random.default_rng()\n",
    "y += 4 * rng.random(9)\n",
    "\n",
    "x = pd.DataFrame(x, columns=['xx'])\n",
    "y = pd.DataFrame(y, columns=['yy'])\n",
    "\n",
    "print(x)\n",
    "#print(\"S_lin_med = \"+str(S_lin_med))\n",
    "#print(\"S_log_med = \"+str(S_log_med))"
   ]
  },
  {
   "cell_type": "code",
   "execution_count": null,
   "id": "ac21f56d",
   "metadata": {},
   "outputs": [],
   "source": [
    "%run funkcje.ipynb"
   ]
  },
  {
   "cell_type": "code",
   "execution_count": null,
   "id": "705976e3",
   "metadata": {},
   "outputs": [],
   "source": [
    "list1 = np.array([3,2,4,1])\n",
    "list2 = np.array([\"three\",\"two\",\"four\",\"one\"])\n",
    "idx   = np.argsort(list1)\n",
    "\n",
    "list1 = np.array(list1)[idx]\n",
    "list2 = np.array(list2)[idx]"
   ]
  },
  {
   "cell_type": "code",
   "execution_count": null,
   "id": "61677bb7",
   "metadata": {},
   "outputs": [],
   "source": []
  }
 ],
 "metadata": {
  "kernelspec": {
   "display_name": "Python 3 (ipykernel)",
   "language": "python",
   "name": "python3"
  },
  "language_info": {
   "codemirror_mode": {
    "name": "ipython",
    "version": 3
   },
   "file_extension": ".py",
   "mimetype": "text/x-python",
   "name": "python",
   "nbconvert_exporter": "python",
   "pygments_lexer": "ipython3",
   "version": "3.9.7"
  }
 },
 "nbformat": 4,
 "nbformat_minor": 5
}

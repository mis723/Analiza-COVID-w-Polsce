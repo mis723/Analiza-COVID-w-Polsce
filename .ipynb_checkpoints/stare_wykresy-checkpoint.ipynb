{
 "cells": [
  {
   "cell_type": "code",
   "execution_count": 1,
   "id": "8c137dcf",
   "metadata": {},
   "outputs": [
    {
     "name": "stdout",
     "output_type": "stream",
     "text": [
      "            date        province     district  infected_total  population  \\\n",
      "0     2020-03-04    dolnośląskie  jeleniagóra             0.0       79061   \n",
      "1     2020-03-05    dolnośląskie  jeleniagóra             0.0       79061   \n",
      "2     2020-03-06    dolnośląskie  jeleniagóra             0.0       79061   \n",
      "3     2020-03-07    dolnośląskie  jeleniagóra             0.0       79061   \n",
      "4     2020-03-08    dolnośląskie  jeleniagóra             0.0       79061   \n",
      "...          ...             ...          ...             ...         ...   \n",
      "45727 2022-02-02  świętokrzyskie       kielce         29942.0      194852   \n",
      "45728 2022-02-03  świętokrzyskie       kielce         30233.0      194852   \n",
      "45729 2022-02-04  świętokrzyskie       kielce         30550.0      194852   \n",
      "45730 2022-02-05  świętokrzyskie       kielce         30788.0      194852   \n",
      "45731 2022-02-06  świętokrzyskie       kielce         30992.0      194852   \n",
      "\n",
      "       area_ha  density_ppl_per_ha  new_infected  pandemic_day  infected_mean  \\\n",
      "0        10922            7.238693           NaN           -30            NaN   \n",
      "1        10922            7.238693           0.0           -29            NaN   \n",
      "2        10922            7.238693           0.0           -28            NaN   \n",
      "3        10922            7.238693           0.0           -27            NaN   \n",
      "4        10922            7.238693           0.0           -26            NaN   \n",
      "...        ...                 ...           ...           ...            ...   \n",
      "45727    10965           17.770360         235.0           673   29337.285714   \n",
      "45728    10965           17.770360         291.0           674   29554.000000   \n",
      "45729    10965           17.770360         317.0           675   29785.000000   \n",
      "45730    10965           17.770360         238.0           676   30013.428571   \n",
      "45731    10965           17.770360         204.0           677   30247.571429   \n",
      "\n",
      "       new_infected_mean  new_infected_mean_per_capita  \n",
      "0                    NaN                           NaN  \n",
      "1                    NaN                           NaN  \n",
      "2                    NaN                           NaN  \n",
      "3                    NaN                           NaN  \n",
      "4               0.000000                      0.000000  \n",
      "...                  ...                           ...  \n",
      "45727         228.428571                      0.001172  \n",
      "45728         234.142857                      0.001202  \n",
      "45729                NaN                           NaN  \n",
      "45730                NaN                           NaN  \n",
      "45731                NaN                           NaN  \n",
      "\n",
      "[45732 rows x 12 columns]\n",
      "Wall time: 1min 35s\n"
     ]
    }
   ],
   "source": [
    "%%time\n",
    "%run dataframes.ipynb"
   ]
  },
  {
   "cell_type": "code",
   "execution_count": 2,
   "id": "916aa0a3",
   "metadata": {},
   "outputs": [],
   "source": [
    "%run funkcje.ipynb"
   ]
  },
  {
   "cell_type": "code",
   "execution_count": 3,
   "id": "6a12e5b1",
   "metadata": {},
   "outputs": [],
   "source": [
    "import warnings\n",
    "warnings.simplefilter(action='ignore', category=FutureWarning)"
   ]
  },
  {
   "cell_type": "code",
   "execution_count": 4,
   "id": "da12cc57",
   "metadata": {},
   "outputs": [],
   "source": [
    "plt.rcParams[\"figure.figsize\"] = (8,6)\n",
    "#plt.rcParams[\"figure.figsize\"] = plt.rcParamsDefault[\"figure.figsize\"]"
   ]
  },
  {
   "cell_type": "code",
   "execution_count": 5,
   "id": "c67f7c70",
   "metadata": {},
   "outputs": [],
   "source": [
    "#Ilość całkowitych przypadków w czasie dla wybranego powiatu\n",
    "\n",
    "# which_district = \"warszawa\"\n",
    "# fig, ax = plt.subplots()\n",
    "# plt.plot_date(infections[infections.district == which_district][\"date\"], infections[infections.district == which_district][\"infected_total\"])\n",
    "# plt.xlabel('Data')\n",
    "# #plt.xticks([])\n",
    "# plt.ylabel('Liczba zakażeń')\n",
    "# every_nth = 3\n",
    "# for n, label in enumerate(ax.xaxis.get_ticklabels()):\n",
    "#     if n % every_nth != 0:\n",
    "#         label.set_visible(False)\n",
    "# plt.title(\"Warszawa\")"
   ]
  },
  {
   "cell_type": "code",
   "execution_count": 6,
   "id": "b528b9bb",
   "metadata": {},
   "outputs": [],
   "source": [
    "#Ilość całkowitych śmierci w czasie dla wybranego powiatu\n",
    "\n",
    "# which_district = \"warszawa\"\n",
    "# fig, ax = plt.subplots()\n",
    "# plt.plot_date(deaths[deaths.district == which_district][\"date\"], deaths[deaths.district == which_district][\"dead_total\"])\n",
    "# plt.xlabel('Data')\n",
    "# plt.ylabel('Liczba śmierci')\n",
    "# every_nth = 3\n",
    "# for n, label in enumerate(ax.xaxis.get_ticklabels()):\n",
    "#     if n % every_nth != 0:\n",
    "#         label.set_visible(False)\n",
    "# plt.title(\"Warszawa\")"
   ]
  },
  {
   "cell_type": "code",
   "execution_count": 7,
   "id": "9ef7001d",
   "metadata": {},
   "outputs": [],
   "source": [
    "#Ilość nowych przypadków w czasie dla wybranego powiatu\n",
    "\n",
    "# which_district = \"warszawa\"\n",
    "# fig, ax = plt.subplots()\n",
    "# plt.plot_date(infections[infections.district == which_district][\"date\"], infections[infections.district == which_district][\"new_infected\"])\n",
    "# plt.xlabel('Data')\n",
    "# #plt.xticks([])\n",
    "# plt.ylabel('Liczba zakażeń')\n",
    "# every_nth = 3\n",
    "# for n, label in enumerate(ax.xaxis.get_ticklabels()):\n",
    "#     if n % every_nth != 0:\n",
    "#         label.set_visible(False)\n",
    "# plt.title(\"Warszawa\")"
   ]
  },
  {
   "cell_type": "code",
   "execution_count": 8,
   "id": "acb3d978",
   "metadata": {},
   "outputs": [],
   "source": [
    "#Wykres liczby całkowitych przypadków od populacji dla wybranej daty\n",
    "\n",
    "# x = infections2.loc[infections2['date'] == '2021-09-01', 'population']\n",
    "# y = infections2.loc[infections2['date'] == '2021-09-01', 'infected_total']\n",
    "\n",
    "# plt.plot(x, y, 'bo')\n",
    "# plt.yscale(\"log\")\n",
    "# plt.xscale(\"log\")\n",
    "# plt.xlabel('Populacja')\n",
    "# plt.ylabel('Liczba zakażeń')\n",
    "# plt.title(\"01.09.2021r.\")"
   ]
  },
  {
   "cell_type": "code",
   "execution_count": 9,
   "id": "38685914",
   "metadata": {
    "scrolled": true
   },
   "outputs": [],
   "source": [
    "#Wykres liczby całkowitych śmierci od populacji dla wybranej daty\n",
    "\n",
    "# x = deaths.loc[deaths['date'] == '2020-09-01', 'population']\n",
    "# y = deaths.loc[deaths['date'] == '2020-09-01', 'dead_total']\n",
    "\n",
    "# plt.plot(x, y, 'bo')\n",
    "# plt.yscale(\"log\")\n",
    "# plt.xscale(\"log\")\n",
    "# plt.xlabel('Populacja')\n",
    "# plt.ylabel('Liczba śmierci')\n",
    "# plt.title(\"01.09.2020r.\")"
   ]
  },
  {
   "cell_type": "code",
   "execution_count": 10,
   "id": "c453e627",
   "metadata": {},
   "outputs": [],
   "source": [
    "#Wykres całkowitej liczby przypadków od populacji dla pierwszego dnia pandemii\n",
    "\n",
    "# x = infections.loc[infections['pandemic_day'] == 0, 'population']\n",
    "# y = infections.loc[infections['pandemic_day'] == 0, 'infected_total']\n",
    "\n",
    "# plt.plot(x, y, 'bo')\n",
    "# plt.xlabel('Populacja')\n",
    "# plt.ylabel('Liczba zakażeń')"
   ]
  },
  {
   "cell_type": "code",
   "execution_count": 11,
   "id": "93c2e5ca",
   "metadata": {},
   "outputs": [],
   "source": [
    "#Wykres całkowitej liczby śmierci od populacji dla pierwszego dnia pandemii\n",
    "\n",
    "# x = deaths.loc[deaths['pandemic_day'] == 0, 'population']\n",
    "# y = deaths.loc[deaths['pandemic_day'] == 0, 'dead_total']\n",
    "\n",
    "# plt.plot(x, y, 'bo')\n",
    "# plt.xlabel('Populacja')\n",
    "# plt.ylabel('Liczba zgonów')\n",
    "\n",
    "# #tutaj widać, że przez wybrakowane dane na początku, niektóre powiaty w pierwszy dzień mają dużo zakażonych \n",
    "# #(zweryfikowałem, tak jest w danych)"
   ]
  },
  {
   "cell_type": "code",
   "execution_count": 17,
   "id": "e0378471",
   "metadata": {},
   "outputs": [],
   "source": [
    "# #print_full(infections.loc[infections['district'] == 'warszawa'])\n",
    "# #print_full(infections.loc[infections['pandemic_day'] == 1])\n",
    "\n",
    "\n",
    "# x = infections.loc[(infections['district'] == 'warszawa') & (infections['pandemic_day'] > 250) & (infections['pandemic_day'] < 300), 'date']\n",
    "# y = infections.loc[(infections['district'] == 'warszawa') & (infections['pandemic_day'] > 250) & (infections['pandemic_day'] < 300) , 'new_infected']\n",
    "# plt.plot(x, y)\n",
    "# plt.xlabel('Dzień pandemiczny')\n",
    "# plt.ylabel('Liczba nowych zarażonych')\n",
    "# plt.title(\"Warszawa\")"
   ]
  },
  {
   "cell_type": "code",
   "execution_count": 21,
   "id": "b74b181e",
   "metadata": {},
   "outputs": [],
   "source": [
    "# x = infections.loc[(infections['district'] == 'warszawa') & (infections['date'] > '2020-11-19') & (infections['date'] < '2021-01-08'), 'date']\n",
    "# y = infections.loc[(infections['district'] == 'warszawa') & (infections['date'] > '2020-11-19') & (infections['date'] < '2021-01-08') , 'new_infected']\n",
    "\n",
    "# plt.plot(x, y)\n",
    "# plt.xlabel('Data')\n",
    "# plt.ylabel('Liczba nowych zarażonych')\n",
    "# plt.xticks(dti)\n",
    "# plt.grid(visible = True)\n",
    "# plt.title(\"Warszawa\")\n",
    "\n",
    "\n",
    "\n"
   ]
  }
 ],
 "metadata": {
  "kernelspec": {
   "display_name": "Python 3 (ipykernel)",
   "language": "python",
   "name": "python3"
  },
  "language_info": {
   "codemirror_mode": {
    "name": "ipython",
    "version": 3
   },
   "file_extension": ".py",
   "mimetype": "text/x-python",
   "name": "python",
   "nbconvert_exporter": "python",
   "pygments_lexer": "ipython3",
   "version": "3.9.7"
  }
 },
 "nbformat": 4,
 "nbformat_minor": 5
}

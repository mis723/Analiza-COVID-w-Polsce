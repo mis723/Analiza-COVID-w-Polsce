{
 "cells": [
  {
   "cell_type": "code",
   "execution_count": 1,
   "id": "8c137dcf",
   "metadata": {},
   "outputs": [
    {
     "name": "stdout",
     "output_type": "stream",
     "text": [
      "Wall time: 1min 22s\n"
     ]
    }
   ],
   "source": [
    "%%time\n",
    "\n",
    "%run dataframes.ipynb"
   ]
  },
  {
   "cell_type": "code",
   "execution_count": 2,
   "id": "916aa0a3",
   "metadata": {},
   "outputs": [],
   "source": [
    "%run funkcje.ipynb"
   ]
  },
  {
   "cell_type": "code",
   "execution_count": 3,
   "id": "da12cc57",
   "metadata": {},
   "outputs": [],
   "source": [
    "plt.rcParams[\"figure.figsize\"] = (8,6)\n",
    "#plt.rcParams[\"figure.figsize\"] = plt.rcParamsDefault[\"figure.figsize\"]"
   ]
  },
  {
   "cell_type": "code",
   "execution_count": 4,
   "id": "c67f7c70",
   "metadata": {},
   "outputs": [],
   "source": [
    "#Ilość całkowitych przypadków w czasie dla wybranego powiatu\n",
    "\n",
    "# which_district = \"warszawa\"\n",
    "# fig, ax = plt.subplots()\n",
    "# plt.plot_date(infections[infections.district == which_district][\"date\"], infections[infections.district == which_district][\"infected_total\"])\n",
    "# plt.xlabel('Data')\n",
    "# #plt.xticks([])\n",
    "# plt.ylabel('Liczba zakażeń')\n",
    "# every_nth = 3\n",
    "# for n, label in enumerate(ax.xaxis.get_ticklabels()):\n",
    "#     if n % every_nth != 0:\n",
    "#         label.set_visible(False)\n",
    "# plt.title(\"Warszawa\")"
   ]
  },
  {
   "cell_type": "code",
   "execution_count": 5,
   "id": "b528b9bb",
   "metadata": {},
   "outputs": [],
   "source": [
    "#Ilość całkowitych śmierci w czasie dla wybranego powiatu\n",
    "\n",
    "# which_district = \"warszawa\"\n",
    "# fig, ax = plt.subplots()\n",
    "# plt.plot_date(deaths[deaths.district == which_district][\"date\"], deaths[deaths.district == which_district][\"dead_total\"])\n",
    "# plt.xlabel('Data')\n",
    "# plt.ylabel('Liczba śmierci')\n",
    "# every_nth = 3\n",
    "# for n, label in enumerate(ax.xaxis.get_ticklabels()):\n",
    "#     if n % every_nth != 0:\n",
    "#         label.set_visible(False)\n",
    "# plt.title(\"Warszawa\")"
   ]
  },
  {
   "cell_type": "code",
   "execution_count": 6,
   "id": "9ef7001d",
   "metadata": {},
   "outputs": [],
   "source": [
    "#Ilość nowych przypadków w czasie dla wybranego powiatu\n",
    "\n",
    "# which_district = \"warszawa\"\n",
    "# fig, ax = plt.subplots()\n",
    "# plt.plot_date(infections[infections.district == which_district][\"date\"], infections[infections.district == which_district][\"new_infected\"])\n",
    "# plt.xlabel('Data')\n",
    "# #plt.xticks([])\n",
    "# plt.ylabel('Liczba zakażeń')\n",
    "# every_nth = 3\n",
    "# for n, label in enumerate(ax.xaxis.get_ticklabels()):\n",
    "#     if n % every_nth != 0:\n",
    "#         label.set_visible(False)\n",
    "# plt.title(\"Warszawa\")"
   ]
  },
  {
   "cell_type": "code",
   "execution_count": 7,
   "id": "acb3d978",
   "metadata": {},
   "outputs": [],
   "source": [
    "#Wykres liczby całkowitych przypadków od populacji dla wybranej daty\n",
    "\n",
    "# x = infections2.loc[infections2['date'] == '2021-09-01', 'population']\n",
    "# y = infections2.loc[infections2['date'] == '2021-09-01', 'infected_total']\n",
    "\n",
    "# plt.plot(x, y, 'bo')\n",
    "# plt.yscale(\"log\")\n",
    "# plt.xscale(\"log\")\n",
    "# plt.xlabel('Populacja')\n",
    "# plt.ylabel('Liczba zakażeń')\n",
    "# plt.title(\"01.09.2021r.\")"
   ]
  },
  {
   "cell_type": "code",
   "execution_count": 8,
   "id": "38685914",
   "metadata": {
    "scrolled": true
   },
   "outputs": [],
   "source": [
    "#Wykres liczby całkowitych śmierci od populacji dla wybranej daty\n",
    "\n",
    "# x = deaths.loc[deaths['date'] == '2020-09-01', 'population']\n",
    "# y = deaths.loc[deaths['date'] == '2020-09-01', 'dead_total']\n",
    "\n",
    "# plt.plot(x, y, 'bo')\n",
    "# plt.yscale(\"log\")\n",
    "# plt.xscale(\"log\")\n",
    "# plt.xlabel('Populacja')\n",
    "# plt.ylabel('Liczba śmierci')\n",
    "# plt.title(\"01.09.2020r.\")"
   ]
  },
  {
   "cell_type": "code",
   "execution_count": 9,
   "id": "c453e627",
   "metadata": {},
   "outputs": [],
   "source": [
    "#Wykres całkowitej liczby przypadków od populacji dla pierwszego dnia pandemii\n",
    "\n",
    "# x = infections.loc[infections['pandemic_day'] == 0, 'population']\n",
    "# y = infections.loc[infections['pandemic_day'] == 0, 'infected_total']\n",
    "\n",
    "# plt.plot(x, y, 'bo')\n",
    "# plt.xlabel('Populacja')\n",
    "# plt.ylabel('Liczba zakażeń')\n",
    "\n",
    "# #tutaj widać, że przez wybrakowane dane na początku, niektóre powiaty w pierwszy dzień mają dużo zakażonych \n",
    "# #(zweryfikowałem, tak jest w danych)"
   ]
  },
  {
   "cell_type": "code",
   "execution_count": 10,
   "id": "93c2e5ca",
   "metadata": {},
   "outputs": [],
   "source": [
    "#Wykres całkowitej liczby śmierci od populacji dla pierwszego dnia pandemii\n",
    "\n",
    "# x = deaths.loc[deaths['pandemic_day'] == 0, 'population']\n",
    "# y = deaths.loc[deaths['pandemic_day'] == 0, 'dead_total']\n",
    "\n",
    "# plt.plot(x, y, 'bo')\n",
    "# plt.xlabel('Populacja')\n",
    "# plt.ylabel('Liczba zgonów')\n",
    "\n",
    "# #tutaj widać, że przez wybrakowane dane na początku, niektóre powiaty w pierwszy dzień mają dużo zakażonych \n",
    "# #(zweryfikowałem, tak jest w danych)\n",
    "#"
   ]
  },
  {
   "cell_type": "code",
   "execution_count": 11,
   "id": "f96f2d5d",
   "metadata": {},
   "outputs": [],
   "source": [
    "# print(deaths)\n",
    "#print_full(population)\n",
    "# print_full(infections.loc[infections['pandemic_day'] == 200, 'population'])\n",
    "# print_full(deaths.loc[deaths['population'] == 1790658])"
   ]
  },
  {
   "cell_type": "code",
   "execution_count": 12,
   "id": "c53195ce",
   "metadata": {},
   "outputs": [
    {
     "name": "stdout",
     "output_type": "stream",
     "text": [
      "a = 0.0016277726429443473\n",
      "b = 1434.603308408121\n",
      "R^2 = 0.02561220454427882\n",
      "p = 0.001959545744013357\n"
     ]
    },
    {
     "data": {
      "image/png": "[encoded data removed]",
      "text/plain": [
       "<Figure size 576x432 with 1 Axes>"
      ]
     },
     "metadata": {
      "needs_background": "light"
     },
     "output_type": "display_data"
    }
   ],
   "source": [
    "#Wykres całkowitej liczby przypadków od populacji dla wybranego dnia pandemii razem z dopasowaniem\n",
    "#skala lin-lin\n",
    "\n",
    "pandemic_day_num = 200\n",
    "x = infections.loc[infections['pandemic_day'] == pandemic_day_num, 'population']\n",
    "y = infections.loc[infections['pandemic_day'] == pandemic_day_num, 'infected_total']\n",
    "\n",
    "a, b, r, p, std_err = fit_n_plot_linlin_scipy(x, y, str(pandemic_day_num)+\" dni od 10 przypadków\", \"Populacja\", \"Liczba zakażeń\")\n",
    "print(\"a = \"+str(a))\n",
    "print(\"b = \"+str(b))\n",
    "print(\"R^2 = \"+str(r*r))\n",
    "print(\"p = \"+str(p))"
   ]
  },
  {
   "cell_type": "code",
   "execution_count": 13,
   "id": "cd94a2f1",
   "metadata": {},
   "outputs": [
    {
     "ename": "NameError",
     "evalue": "name 'sm' is not defined",
     "output_type": "error",
     "traceback": [
      "\u001b[1;31m---------------------------------------------------------------------------\u001b[0m",
      "\u001b[1;31mNameError\u001b[0m                                 Traceback (most recent call last)",
      "\u001b[1;32mC:\\Users\\MICHA~1\\AppData\\Local\\Temp/ipykernel_7860/1574312923.py\u001b[0m in \u001b[0;36m<module>\u001b[1;34m\u001b[0m\n\u001b[0;32m      6\u001b[0m \u001b[0my\u001b[0m \u001b[1;33m=\u001b[0m \u001b[0minfections\u001b[0m\u001b[1;33m.\u001b[0m\u001b[0mloc\u001b[0m\u001b[1;33m[\u001b[0m\u001b[0minfections\u001b[0m\u001b[1;33m[\u001b[0m\u001b[1;34m'pandemic_day'\u001b[0m\u001b[1;33m]\u001b[0m \u001b[1;33m==\u001b[0m \u001b[0mpandemic_day_num\u001b[0m\u001b[1;33m,\u001b[0m \u001b[1;34m'infected_total'\u001b[0m\u001b[1;33m]\u001b[0m\u001b[1;33m\u001b[0m\u001b[1;33m\u001b[0m\u001b[0m\n\u001b[0;32m      7\u001b[0m \u001b[1;33m\u001b[0m\u001b[0m\n\u001b[1;32m----> 8\u001b[1;33m \u001b[0ma\u001b[0m\u001b[1;33m,\u001b[0m \u001b[0mb\u001b[0m\u001b[1;33m,\u001b[0m \u001b[0mr\u001b[0m\u001b[1;33m,\u001b[0m \u001b[0mp\u001b[0m\u001b[1;33m,\u001b[0m \u001b[0mstd_err\u001b[0m \u001b[1;33m=\u001b[0m \u001b[0mfit_n_plot_linlin_statsmodels\u001b[0m\u001b[1;33m(\u001b[0m\u001b[0mx\u001b[0m\u001b[1;33m,\u001b[0m \u001b[0my\u001b[0m\u001b[1;33m,\u001b[0m \u001b[0mstr\u001b[0m\u001b[1;33m(\u001b[0m\u001b[0mpandemic_day_num\u001b[0m\u001b[1;33m)\u001b[0m\u001b[1;33m+\u001b[0m\u001b[1;34m\" dni od 10 przypadków\"\u001b[0m\u001b[1;33m,\u001b[0m \u001b[1;34m\"Populacja\"\u001b[0m\u001b[1;33m,\u001b[0m \u001b[1;34m\"Liczba zakażeń\"\u001b[0m\u001b[1;33m)\u001b[0m\u001b[1;33m\u001b[0m\u001b[1;33m\u001b[0m\u001b[0m\n\u001b[0m\u001b[0;32m      9\u001b[0m \u001b[0mprint\u001b[0m\u001b[1;33m(\u001b[0m\u001b[1;34m\"a = \"\u001b[0m\u001b[1;33m+\u001b[0m\u001b[0mstr\u001b[0m\u001b[1;33m(\u001b[0m\u001b[0ma\u001b[0m\u001b[1;33m)\u001b[0m\u001b[1;33m)\u001b[0m\u001b[1;33m\u001b[0m\u001b[1;33m\u001b[0m\u001b[0m\n\u001b[0;32m     10\u001b[0m \u001b[0mprint\u001b[0m\u001b[1;33m(\u001b[0m\u001b[1;34m\"b = \"\u001b[0m\u001b[1;33m+\u001b[0m\u001b[0mstr\u001b[0m\u001b[1;33m(\u001b[0m\u001b[0mb\u001b[0m\u001b[1;33m)\u001b[0m\u001b[1;33m)\u001b[0m\u001b[1;33m\u001b[0m\u001b[1;33m\u001b[0m\u001b[0m\n",
      "\u001b[1;32mC:\\Users\\MICHA~1\\AppData\\Local\\Temp/ipykernel_7860/4231277742.py\u001b[0m in \u001b[0;36mfit_n_plot_linlin_statsmodels\u001b[1;34m(x, y, title, xscale_tabel, yscale_label)\u001b[0m\n\u001b[0;32m      8\u001b[0m     \u001b[0midx\u001b[0m \u001b[1;33m=\u001b[0m \u001b[0mnp\u001b[0m\u001b[1;33m.\u001b[0m\u001b[0misnan\u001b[0m\u001b[1;33m(\u001b[0m\u001b[0my\u001b[0m\u001b[1;33m)\u001b[0m\u001b[1;33m\u001b[0m\u001b[1;33m\u001b[0m\u001b[0m\n\u001b[0;32m      9\u001b[0m \u001b[1;33m\u001b[0m\u001b[0m\n\u001b[1;32m---> 10\u001b[1;33m     \u001b[0mx\u001b[0m \u001b[1;33m=\u001b[0m \u001b[0msm\u001b[0m\u001b[1;33m.\u001b[0m\u001b[0madd_constant\u001b[0m\u001b[1;33m(\u001b[0m\u001b[0mx\u001b[0m\u001b[1;33m)\u001b[0m \u001b[1;31m#comment to not include intercept\u001b[0m\u001b[1;33m\u001b[0m\u001b[1;33m\u001b[0m\u001b[0m\n\u001b[0m\u001b[0;32m     11\u001b[0m     \u001b[0mmodel\u001b[0m \u001b[1;33m=\u001b[0m \u001b[0msm\u001b[0m\u001b[1;33m.\u001b[0m\u001b[0mOLS\u001b[0m\u001b[1;33m(\u001b[0m\u001b[0my\u001b[0m\u001b[1;33m[\u001b[0m\u001b[1;33m~\u001b[0m\u001b[0midx\u001b[0m\u001b[1;33m]\u001b[0m\u001b[1;33m,\u001b[0m\u001b[0mx\u001b[0m\u001b[1;33m[\u001b[0m\u001b[1;33m~\u001b[0m\u001b[0midx\u001b[0m\u001b[1;33m]\u001b[0m\u001b[1;33m)\u001b[0m\u001b[1;33m\u001b[0m\u001b[1;33m\u001b[0m\u001b[0m\n\u001b[0;32m     12\u001b[0m     \u001b[0mresults\u001b[0m \u001b[1;33m=\u001b[0m \u001b[0mmodel\u001b[0m\u001b[1;33m.\u001b[0m\u001b[0mfit\u001b[0m\u001b[1;33m(\u001b[0m\u001b[1;33m)\u001b[0m\u001b[1;33m\u001b[0m\u001b[1;33m\u001b[0m\u001b[0m\n",
      "\u001b[1;31mNameError\u001b[0m: name 'sm' is not defined"
     ]
    },
    {
     "data": {
      "image/png": "[encoded data removed]",
      "text/plain": [
       "<Figure size 576x432 with 1 Axes>"
      ]
     },
     "metadata": {
      "needs_background": "light"
     },
     "output_type": "display_data"
    }
   ],
   "source": [
    "#Wykres całkowitej liczby przypadków od populacji dla wybranego dnia pandemii razem z dopasowaniem\n",
    "#skala lin-lin\n",
    "\n",
    "pandemic_day_num = 200\n",
    "x = infections.loc[infections['pandemic_day'] == pandemic_day_num, 'population']\n",
    "y = infections.loc[infections['pandemic_day'] == pandemic_day_num, 'infected_total']\n",
    "\n",
    "a, b, r, p, std_err = fit_n_plot_linlin_statsmodels(x, y, str(pandemic_day_num)+\" dni od 10 przypadków\", \"Populacja\", \"Liczba zakażeń\")\n",
    "print(\"a = \"+str(a))\n",
    "print(\"b = \"+str(b))\n",
    "print(\"R^2 = \"+str(r*r))\n",
    "print(\"p = \"+str(p))"
   ]
  },
  {
   "cell_type": "code",
   "execution_count": null,
   "id": "6a82482e",
   "metadata": {},
   "outputs": [],
   "source": [
    "#Wykres całkowitej liczby śmierci od populacji dla wybranego dnia pandemii razem z dopasowaniem\n",
    "#skala lin-lin\n",
    "\n",
    "pandemic_day_num = 400\n",
    "x = deaths.loc[deaths['pandemic_day'] == pandemic_day_num, 'population']\n",
    "y = deaths.loc[deaths['pandemic_day'] == pandemic_day_num, 'dead_total']\n",
    "\n",
    "a, b, r, p, std_err = fit_n_plot_linlin_scipy(x, y, str(pandemic_day_num)+\" dni od 2 zgonów\", \"Populacja\", \"Liczba zgonów\")\n",
    "print(\"a = \"+str(a))\n",
    "print(\"b = \"+str(b))\n",
    "print(\"R^2 = \"+str(r*r))\n",
    "print(\"p = \"+str(p))\n",
    "\n",
    "#dlaczego wykres tak, sprawdzić warszawę"
   ]
  },
  {
   "cell_type": "code",
   "execution_count": null,
   "id": "7ce4610a",
   "metadata": {},
   "outputs": [],
   "source": [
    "#Wykres całkowitej liczby przypadków od populacji dla wybranego dnia pandemii razem z dopasowaniem\n",
    "#skala log-log\n",
    "\n",
    "pandemic_day_num = 400\n",
    "x = infections.loc[infections['pandemic_day'] == pandemic_day_num, 'population']\n",
    "y = infections.loc[infections['pandemic_day'] == pandemic_day_num, 'infected_total']\n",
    "\n",
    "a, b, r, p, std_err = fit_n_plot_loglog_scipy(x, y, str(pandemic_day_num)+\" dni od 10 przypadków\", \"Populacja\", \"Liczba zakażeń\")\n",
    "print(\"a = \"+str(a))\n",
    "print(\"b = \"+str(b))\n",
    "print(\"R^2 = \"+str(r*r))\n",
    "print(\"p = \"+str(p))"
   ]
  },
  {
   "cell_type": "code",
   "execution_count": null,
   "id": "e0378471",
   "metadata": {},
   "outputs": [],
   "source": [
    "# #print_full(infections.loc[infections['district'] == 'warszawa'])\n",
    "# #print_full(infections.loc[infections['pandemic_day'] == 1])\n",
    "\n",
    "\n",
    "# x = infections.loc[(infections['district'] == 'warszawa') & (infections['pandemic_day'] > 250) & (infections['pandemic_day'] < 300), 'date']\n",
    "# y = infections.loc[(infections['district'] == 'warszawa') & (infections['pandemic_day'] > 250) & (infections['pandemic_day'] < 300) , 'new_infected']\n",
    "# plt.plot(x, y)\n",
    "# plt.xlabel('Dzień pandemiczny')\n",
    "# plt.ylabel('Liczba nowych zarażonych')\n",
    "# plt.title(\"Warszawa\")"
   ]
  },
  {
   "cell_type": "code",
   "execution_count": null,
   "id": "93ce5f3c",
   "metadata": {},
   "outputs": [],
   "source": [
    "dti = pd.date_range(\"2020-11-23\", periods=7, freq=\"7D\")\n",
    "#print(dti)"
   ]
  },
  {
   "cell_type": "code",
   "execution_count": null,
   "id": "8125bd69",
   "metadata": {},
   "outputs": [],
   "source": [
    "# print_full(deaths.loc[deaths['district'] == \"warszawa\"])"
   ]
  },
  {
   "cell_type": "code",
   "execution_count": null,
   "id": "9681a87d",
   "metadata": {},
   "outputs": [],
   "source": [
    "x = infections.loc[(infections['district'] == 'warszawa') & (infections['date'] > '2020-11-19') & (infections['date'] < '2021-01-08'), 'date']\n",
    "y = infections.loc[(infections['district'] == 'warszawa') & (infections['date'] > '2020-11-19') & (infections['date'] < '2021-01-08') , 'new_infected']\n",
    "plt.plot(x, y)\n",
    "plt.xlabel('')\n",
    "plt.ylabel('Liczba nowych zarażonych')\n",
    "plt.xticks(dti)\n",
    "plt.grid(visible = True)\n",
    "plt.title(\"Warszawa\")"
   ]
  },
  {
   "cell_type": "code",
   "execution_count": null,
   "id": "5f60bdce",
   "metadata": {},
   "outputs": [],
   "source": [
    "# x = infections.loc[(infections['district'] == 'warszawa') & (infections['date'] > '2020-11-19') & (infections['date'] < '2021-01-08'), 'date']\n",
    "# y = infections.loc[(infections['district'] == 'warszawa') & (infections['date'] > '2020-11-19') & (infections['date'] < '2021-01-08') , 'new_infected']\n",
    "\n",
    "# plt.plot(x, y)\n",
    "# plt.xlabel('Data')\n",
    "# plt.ylabel('Liczba nowych zarażonych')\n",
    "# plt.xticks(dti)\n",
    "# plt.grid(visible = True)\n",
    "# plt.title(\"Warszawa\")\n",
    "\n",
    "\n",
    "\n"
   ]
  },
  {
   "cell_type": "code",
   "execution_count": null,
   "id": "c5a5f14c",
   "metadata": {},
   "outputs": [],
   "source": [
    "# # tutaj znajduję impostorów\n",
    "\n",
    "# print_full(infections.loc[(infections['infected_total'] < 800) & (infections['pandemic_day'] > 350) & (infections['pandemic_day'] < 400)])"
   ]
  },
  {
   "cell_type": "code",
   "execution_count": null,
   "id": "f1d7f11f",
   "metadata": {},
   "outputs": [],
   "source": [
    "# # tutaj badam impostorów\n",
    "\n",
    "# print_full(infections.loc[(infections['district'] == \"bielski\") & (infections['province'] == \"śląskie\") & (infections['pandemic_day'] > 350) & (infections['pandemic_day'] < 400)])"
   ]
  },
  {
   "cell_type": "code",
   "execution_count": null,
   "id": "aa4b0d26",
   "metadata": {},
   "outputs": [],
   "source": [
    "#Wykres całkowitej liczby śmierci od populacji dla wybranego dnia pandemii razem z dopasowaniem\n",
    "#skala log-log\n",
    "\n",
    "pandemic_day_num = 400\n",
    "x = deaths.loc[deaths['pandemic_day'] == pandemic_day_num, 'population']\n",
    "y = deaths.loc[deaths['pandemic_day'] == pandemic_day_num, 'dead_total']\n",
    "\n",
    "a, b, r, p, std_err = fit_n_plot_loglog_scipy(x, y, str(pandemic_day_num)+\" dni od 2 zgonów\", \"Populacja\", \"Liczba zgonów\")\n",
    "print(\"a = \"+str(a))\n",
    "print(\"b = \"+str(b))\n",
    "print(\"R^2 = \"+str(r*r))\n",
    "print(\"p = \"+str(p))"
   ]
  },
  {
   "cell_type": "code",
   "execution_count": null,
   "id": "4edfe378",
   "metadata": {},
   "outputs": [],
   "source": [
    "#Wykres całkowitej liczby przypadków od gęstości populacji dla wybranego dnia pandemii razem z dopasowaniem\n",
    "#skala lin-lin\n",
    "\n",
    "pandemic_day_num = 400\n",
    "x = infections.loc[infections['pandemic_day'] == pandemic_day_num, 'density_ppl_per_ha']\n",
    "y = infections.loc[infections['pandemic_day'] == pandemic_day_num, 'infected_total']\n",
    "\n",
    "a, b, r, p, std_err = fit_n_plot_linlin_scipy(x, y, str(pandemic_day_num)+\" dni od 10 przypadków\", \"Gęstość populacji (1/ha)\", \"Liczba zakażeń\")\n",
    "print(\"a = \"+str(a))\n",
    "print(\"b = \"+str(b))\n",
    "print(\"R^2 = \"+str(r*r))\n",
    "print(\"p = \"+str(p))"
   ]
  },
  {
   "cell_type": "code",
   "execution_count": null,
   "id": "0dd0f5b3",
   "metadata": {},
   "outputs": [],
   "source": [
    "#Wykres całkowitej liczby śmierci od gęstości populacji dla wybranego dnia pandemii razem z dopasowaniem\n",
    "#skala lin-lin\n",
    "\n",
    "pandemic_day_num = 400\n",
    "x = deaths.loc[deaths['pandemic_day'] == pandemic_day_num, 'density_ppl_per_ha']\n",
    "y = deaths.loc[deaths['pandemic_day'] == pandemic_day_num, 'dead_total']\n",
    "\n",
    "a, b, r, p, std_err = fit_n_plot_linlin_scipy(x, y, str(pandemic_day_num)+\" dni od 2 zgonów\", \"Gęstość populacji (1/ha)\", \"Liczba śmierci\")\n",
    "print(\"a = \"+str(a))\n",
    "print(\"b = \"+str(b))\n",
    "print(\"R^2 = \"+str(r*r))\n",
    "print(\"p = \"+str(p))"
   ]
  },
  {
   "cell_type": "code",
   "execution_count": null,
   "id": "12ed069f",
   "metadata": {
    "scrolled": false
   },
   "outputs": [],
   "source": [
    "#Wykres całkowitej liczby przypadków od gęstości populacji dla wybranego dnia pandemii razem z dopasowaniem\n",
    "#skala log-log\n",
    "\n",
    "pandemic_day_num = 500\n",
    "x = infections.loc[infections['pandemic_day'] == pandemic_day_num, 'density_ppl_per_ha']\n",
    "y = infections.loc[infections['pandemic_day'] == pandemic_day_num, 'infected_total']\n",
    "\n",
    "a, b, r, p, std_err = fit_n_plot_loglog_scipy(x, y, str(pandemic_day_num)+\" dni od 10 przypadków\", \"Gęstość populacji (1/ha)\", \"Liczba zakażeń\")\n",
    "print(\"a = \"+str(a))\n",
    "print(\"b = \"+str(b))\n",
    "print(\"R^2 = \"+str(r*r))\n",
    "print(\"p = \"+str(p))"
   ]
  },
  {
   "cell_type": "code",
   "execution_count": null,
   "id": "24629126",
   "metadata": {},
   "outputs": [],
   "source": [
    "#Wykres całkowitej liczby śmierci od gęstości populacji dla wybranego dnia pandemii razem z dopasowaniem\n",
    "#skala log-log\n",
    "\n",
    "pandemic_day_num = 400\n",
    "x = deaths.loc[deaths['pandemic_day'] == pandemic_day_num, 'density_ppl_per_ha']\n",
    "y = deaths.loc[deaths['pandemic_day'] == pandemic_day_num, 'dead_total']\n",
    "\n",
    "a, b, r, p, std_err = fit_n_plot_loglog_scipy(x, y, str(pandemic_day_num)+\" dni od 2 zgonów\", \"Gęstość populacji (1/ha)\", \"Liczba śmierci\")\n",
    "print(\"a = \"+str(a))\n",
    "print(\"b = \"+str(b))\n",
    "print(\"R^2 = \"+str(r*r))\n",
    "print(\"p = \"+str(p))"
   ]
  },
  {
   "cell_type": "code",
   "execution_count": null,
   "id": "ca0b35e1",
   "metadata": {},
   "outputs": [],
   "source": [
    "#Wykres całkowitej liczby zakażeń per capita od gęstości populacji dla wybranego dnia pandemii razem z dopasowaniem\n",
    "#skala log-log\n",
    "\n",
    "pandemic_day_num = 400\n",
    "x = infections.loc[infections['pandemic_day'] == pandemic_day_num, 'density_ppl_per_ha']\n",
    "infectss = infections.loc[infections['pandemic_day'] == pandemic_day_num, 'infected_total']\n",
    "popul = infections.loc[infections['pandemic_day'] == pandemic_day_num, 'population']\n",
    "y = infectss / popul\n",
    "\n",
    "a, b, r, p, std_err = fit_n_plot_loglog_scipy(x, y, str(pandemic_day_num)+\" dni od 10 przypadków\", \"Gęstość populacji (1/ha)\", \"Liczba zakażeń per capita\")\n",
    "print(\"a = \"+str(a))\n",
    "print(\"b = \"+str(b))\n",
    "print(\"R^2 = \"+str(r*r))\n",
    "print(\"p = \"+str(p))"
   ]
  },
  {
   "cell_type": "code",
   "execution_count": null,
   "id": "5d7281f2",
   "metadata": {},
   "outputs": [],
   "source": [
    "#Wykres całkowitej liczby śmierci per capita od gęstości populacji dla wybranego dnia pandemii razem z dopasowaniem\n",
    "#skala log-log\n",
    "\n",
    "pandemic_day_num = 200\n",
    "x = deaths.loc[deaths['pandemic_day'] == pandemic_day_num, 'density_ppl_per_ha']\n",
    "deathss = deaths.loc[deaths['pandemic_day'] == pandemic_day_num, 'dead_total']\n",
    "popul = deaths.loc[deaths['pandemic_day'] == pandemic_day_num, 'population']\n",
    "y = deathss / popul\n",
    "\n",
    "a, b, r, p, std_err = fit_n_plot_loglog_scipy(x, y, str(pandemic_day_num)+\" dni od 2 zgonów\", \"Gęstość populacji (1/ha)\", \"Liczba śmierci per capita\")\n",
    "print(\"a = \"+str(a))\n",
    "print(\"b = \"+str(b))\n",
    "print(\"R^2 = \"+str(r*r))\n",
    "print(\"p = \"+str(p))"
   ]
  },
  {
   "cell_type": "code",
   "execution_count": null,
   "id": "0dd0ddff",
   "metadata": {},
   "outputs": [],
   "source": [
    "#Wykres nachylenia prostej dla przypadków w zależności od kolejnych dni pandemicznych\n",
    "#+ wykresy jakości dopasowania (dla zależności od populacji) (lin-lin)\n",
    "\n",
    "#max days_num = 695\n",
    "days_num = 600\n",
    "nachylenia = []\n",
    "wartosci_R2 = []\n",
    "wartosci_p = []\n",
    "wartosci_b = []\n",
    "for i in range(days_num):\n",
    "    x = infections.loc[infections['pandemic_day'] == i, 'population']\n",
    "    y = infections.loc[infections['pandemic_day'] == i, 'infected_total']\n",
    "    #a = fit_loglog(x, y)\n",
    "    a, b, r, p = fit_linlin_scipy(x, y)\n",
    "    nachylenia.append(a)\n",
    "    wartosci_b.append(b)\n",
    "    wartosci_R2.append(r*r)\n",
    "    wartosci_p.append(p)\n",
    "\n",
    "\n",
    "fig, ax = plt.subplots(nrows=2, ncols=2, figsize=(18, 5))\n",
    "fig.subplots_adjust(left=0.2, hspace = 0.3)\n",
    "ax[0,0].plot(range(days_num), nachylenia, 'bo', markersize=3, label='a')\n",
    "ax[0,0].title.set_text('Współczynnik nachylenia dla zarażonych')\n",
    "ax[0,1].plot(range(days_num), wartosci_b, 'bo', markersize=3, label='b')\n",
    "ax[0,1].title.set_text('Wartosci b dla zarażonych')\n",
    "ax[1,0].plot(range(days_num), wartosci_R2, 'bo', markersize=3, label='R2')\n",
    "ax[1,0].title.set_text('Wartosci R2 dla zarażonych')\n",
    "ax[1,0].set_ylim([0, 1])\n",
    "ax[1,1].plot(range(days_num), wartosci_p, 'bo', markersize=3, label='p')\n",
    "ax[1,1].title.set_text('Wartosci p dla zarażonych')\n",
    "ax[1,1].set_yscale(\"log\")"
   ]
  },
  {
   "cell_type": "code",
   "execution_count": null,
   "id": "5de6a561",
   "metadata": {},
   "outputs": [],
   "source": [
    "#Wykres nachylenia prostej dla śmierci i w zależności od kolejnych dni pandemicznych\n",
    "#+ wykresy jakości dopasowania (dla zależności od populacji) (lin-lin)\n",
    "\n",
    "#max days_num = 691\n",
    "days_num = 600\n",
    "nachylenia = []\n",
    "wartosci_R2 = []\n",
    "wartosci_p = []\n",
    "wartosci_b = []\n",
    "for i in range(days_num):\n",
    "    x = deaths.loc[deaths['pandemic_day'] == i, 'population']\n",
    "    y = deaths.loc[deaths['pandemic_day'] == i, 'dead_total']\n",
    "    #a = fit_loglog(x, y)\n",
    "    a, b, r, p = fit_linlin_scipy(x, y)\n",
    "    nachylenia.append(a)\n",
    "    wartosci_b.append(b)\n",
    "    wartosci_R2.append(r*r)\n",
    "    wartosci_p.append(p)\n",
    "\n",
    "fig, ax = plt.subplots(nrows=2, ncols=2, figsize=(18, 5))\n",
    "fig.subplots_adjust(left=0.2, hspace = 0.3)\n",
    "ax[0,0].plot(range(days_num), nachylenia, 'bo', markersize=3, label='a')\n",
    "ax[0,0].title.set_text('Współczynnik nachylenia dla śmierci')\n",
    "ax[0,1].plot(range(days_num), wartosci_b, 'bo', markersize=3, label='b')\n",
    "ax[0,1].title.set_text('Wartosci b dla śmierci')\n",
    "ax[1,0].plot(range(days_num), wartosci_R2, 'bo', markersize=3, label='R2')\n",
    "ax[1,0].title.set_text('Wartosci R2 dla śmierci')\n",
    "ax[1,0].set_ylim([0, 1])\n",
    "ax[1,1].plot(range(days_num), wartosci_p, 'bo', markersize=3, label='p')\n",
    "ax[1,1].title.set_text('Wartosci p dla śmierci')\n",
    "ax[1,1].set_yscale(\"log\")"
   ]
  },
  {
   "cell_type": "code",
   "execution_count": null,
   "id": "1e5c4c5c",
   "metadata": {},
   "outputs": [],
   "source": [
    "#Wykres wykładnika skalowania dla przypadków i (nachylenia prostej) w zależności od kolejnych dni pandemicznych\n",
    "#+ wykresy jakości dopasowania (dla zależności od populacji) (log-log)\n",
    "\n",
    "days_num = 600\n",
    "wykladniki = []\n",
    "wartosci_R2 = []\n",
    "wartosci_p = []\n",
    "wartosci_b = []\n",
    "for i in range(days_num):\n",
    "    x = infections.loc[infections['pandemic_day'] == i, 'population']\n",
    "    y = infections.loc[infections['pandemic_day'] == i, 'infected_total']\n",
    "    #a = fit_loglog(x, y)\n",
    "    a, b, r, p = fit_loglog_scipy(x, y)\n",
    "    wykladniki.append(a)\n",
    "    wartosci_b.append(b)\n",
    "    wartosci_R2.append(r*r)\n",
    "    wartosci_p.append(p)\n",
    "\n",
    "\n",
    "fig, ax = plt.subplots(nrows=2, ncols=2, figsize=(18, 5))\n",
    "fig.subplots_adjust(left=0.2, hspace = 0.3)\n",
    "ax[0,0].plot(range(days_num), wykladniki, 'bo', markersize=3, label='a')\n",
    "ax[0,0].title.set_text('Wykładnik skalowania dla zarażonych')\n",
    "ax[0,1].plot(range(days_num), wartosci_b, 'bo', markersize=3, label='b')\n",
    "ax[0,1].title.set_text('Wartosci b dla zarażonych')\n",
    "ax[1,0].plot(range(days_num), wartosci_R2, 'bo', markersize=3, label='R2')\n",
    "ax[1,0].title.set_text('Wartosci R2 dla zarażonych')\n",
    "ax[1,0].set_ylim([0, 1])\n",
    "ax[1,1].plot(range(days_num), wartosci_p, 'bo', markersize=3, label='p')\n",
    "ax[1,1].title.set_text('Wartosci p dla zarażonych')\n",
    "ax[1,1].set_yscale(\"log\")"
   ]
  },
  {
   "cell_type": "code",
   "execution_count": null,
   "id": "7a55e0ca",
   "metadata": {},
   "outputs": [],
   "source": [
    "#Wykres wykładnika skalowania dla śmierci i (nachylenia prostej) w zależności od kolejnych dni pandemicznych\n",
    "#+ wykresy jakości dopasowania (dla zależności od populacji) (log-log)\n",
    "\n",
    "days_num = 600\n",
    "wykladniki = []\n",
    "wartosci_R2 = []\n",
    "wartosci_p = []\n",
    "wartosci_b = []\n",
    "for i in range(days_num):\n",
    "    x = deaths.loc[deaths['pandemic_day'] == i, 'population']\n",
    "    y = deaths.loc[deaths['pandemic_day'] == i, 'dead_total']\n",
    "    #a = fit_loglog(x, y)\n",
    "    a, b, r, p = fit_loglog_scipy(x, y)\n",
    "    wykladniki.append(a)\n",
    "    wartosci_b.append(b)\n",
    "    wartosci_R2.append(r*r)\n",
    "    wartosci_p.append(p)\n",
    "\n",
    "fig, ax = plt.subplots(nrows=2, ncols=2, figsize=(18, 5))\n",
    "fig.subplots_adjust(left=0.2, hspace = 0.3)\n",
    "ax[0,0].plot(range(days_num), wykladniki, 'bo', markersize=3, label='a')\n",
    "ax[0,0].title.set_text('Wykładnik skalowania dla śmierci')\n",
    "ax[0,1].plot(range(days_num), wartosci_b, 'bo', markersize=3, label='b')\n",
    "ax[0,1].title.set_text('Wartosci b dla śmierci')\n",
    "ax[1,0].plot(range(days_num), wartosci_R2, 'bo', markersize=3, label='R2')\n",
    "ax[1,0].title.set_text('Wartosci R2 dla śmierci')\n",
    "ax[1,0].set_ylim([0, 1])\n",
    "ax[1,1].plot(range(days_num), wartosci_p, 'bo', markersize=3, label='p')\n",
    "ax[1,1].title.set_text('Wartosci p dla śmierci')\n",
    "ax[1,1].set_yscale(\"log\")"
   ]
  },
  {
   "cell_type": "code",
   "execution_count": null,
   "id": "7396fc70",
   "metadata": {},
   "outputs": [],
   "source": [
    "#Wykres nachylenia prostej dla przypadków i w zależności od kolejnych dni pandemicznych\n",
    "#+ wykresy jakości dopasowania (dla zależności od gęstości populacji) (lin-lin)\n",
    "\n",
    "days_num = 400\n",
    "nachylenia = []\n",
    "wartosci_R2 = []\n",
    "wartosci_p = []\n",
    "wartosci_b = []\n",
    "for i in range(days_num):\n",
    "    x = infections.loc[infections['pandemic_day'] == i, 'density_ppl_per_ha']\n",
    "    y = infections.loc[infections['pandemic_day'] == i, 'infected_total']\n",
    "    #a = fit_loglog(x, y)\n",
    "    a, b, r, p = fit_linlin_scipy(x, y)\n",
    "    nachylenia.append(a)\n",
    "    wartosci_b.append(b)\n",
    "    wartosci_R2.append(r*r)\n",
    "    wartosci_p.append(p)\n",
    "\n",
    "fig, ax = plt.subplots(nrows=2, ncols=2, figsize=(18, 5))\n",
    "fig.subplots_adjust(left=0.2, hspace = 0.3)\n",
    "ax[0,0].plot(range(days_num), nachylenia, 'bo', markersize=3, label='a')\n",
    "ax[0,0].title.set_text('Współczynnik nachylenia dla zarażonych')\n",
    "ax[0,1].plot(range(days_num), wartosci_b, 'bo', markersize=3, label='b')\n",
    "ax[0,1].title.set_text('Wartosci b dla zarażonych')\n",
    "ax[1,0].plot(range(days_num), wartosci_R2, 'bo', markersize=3, label='R2')\n",
    "ax[1,0].title.set_text('Wartosci R2 dla zarażonych')\n",
    "ax[1,0].set_ylim([0, 1])\n",
    "ax[1,1].plot(range(days_num), wartosci_p, 'bo', markersize=3, label='p')\n",
    "ax[1,1].title.set_text('Wartosci p dla zarażonych')\n",
    "ax[1,1].set_yscale(\"log\")"
   ]
  },
  {
   "cell_type": "code",
   "execution_count": null,
   "id": "7672982c",
   "metadata": {},
   "outputs": [],
   "source": [
    "#Wykres wykładnika skalowania dla śmierci i (nachylenia prostej) w zależności od kolejnych dni pandemicznych\n",
    "#+ wykresy jakości dopasowania (dla zależności od gęstości populacji) (lin-lin)\n",
    "\n",
    "days_num = 400\n",
    "nachylenia = []\n",
    "wartosci_R2 = []\n",
    "wartosci_p = []\n",
    "wartosci_b = []\n",
    "for i in range(days_num):\n",
    "    x = deaths.loc[deaths['pandemic_day'] == i, 'density_ppl_per_ha']\n",
    "    y = deaths.loc[deaths['pandemic_day'] == i, 'dead_total']\n",
    "    #a = fit_loglog(x, y)\n",
    "    a, b, r, p = fit_linlin_scipy(x, y)\n",
    "    nachylenia.append(a)\n",
    "    wartosci_b.append(b)\n",
    "    wartosci_R2.append(r*r)\n",
    "    wartosci_p.append(p)\n",
    "\n",
    "fig, ax = plt.subplots(nrows=2, ncols=2, figsize=(18, 5))\n",
    "fig.subplots_adjust(left=0.2, hspace = 0.3)\n",
    "ax[0,0].plot(range(days_num), nachylenia, 'bo', markersize=3, label='a')\n",
    "ax[0,0].title.set_text('Współczynnik nachylenia dla śmierci')\n",
    "ax[0,1].plot(range(days_num), wartosci_b, 'bo', markersize=3, label='b')\n",
    "ax[0,1].title.set_text('Wartosci b dla śmierci')\n",
    "ax[1,0].plot(range(days_num), wartosci_R2, 'bo', markersize=3, label='R2')\n",
    "ax[1,0].title.set_text('Wartosci R2 dla śmierci')\n",
    "ax[1,0].set_ylim([0, 1])\n",
    "ax[1,1].plot(range(days_num), wartosci_p, 'bo', markersize=3, label='p')\n",
    "ax[1,1].title.set_text('Wartosci p dla śmierci')\n",
    "ax[1,1].set_yscale(\"log\")"
   ]
  },
  {
   "cell_type": "code",
   "execution_count": null,
   "id": "19b80c8b",
   "metadata": {},
   "outputs": [],
   "source": [
    "#Wykres wykładnika skalowania dla przypadków i (nachylenia prostej) w zależności od kolejnych dni pandemicznych\n",
    "#+ wykresy jakości dopasowania (dla zależności od gęstości populacji) (log-log)\n",
    "\n",
    "days_num = 600\n",
    "wykladniki = []\n",
    "wartosci_R2 = []\n",
    "wartosci_p = []\n",
    "wartosci_b = []\n",
    "for i in range(days_num):\n",
    "    x = infections.loc[infections['pandemic_day'] == i, 'density_ppl_per_ha']\n",
    "    y = infections.loc[infections['pandemic_day'] == i, 'infected_total']\n",
    "    #a = fit_loglog(x, y)\n",
    "    a, b, r, p = fit_loglog_scipy(x, y)\n",
    "    wykladniki.append(a)\n",
    "    wartosci_b.append(b)\n",
    "    wartosci_R2.append(r*r)\n",
    "    wartosci_p.append(p)\n",
    "\n",
    "fig, ax = plt.subplots(nrows=2, ncols=2, figsize=(18, 5))\n",
    "fig.subplots_adjust(left=0.2, hspace = 0.3)\n",
    "ax[0,0].plot(range(days_num), wykladniki, 'bo', markersize=3, label='a')\n",
    "ax[0,0].title.set_text('Wykładnik skalowania dla zarażonych')\n",
    "ax[0,1].plot(range(days_num), wartosci_b, 'bo', markersize=3, label='b')\n",
    "ax[0,1].title.set_text('Wartosci b dla zarażonych')\n",
    "ax[1,0].plot(range(days_num), wartosci_R2, 'bo', markersize=3, label='R2')\n",
    "ax[1,0].title.set_text('Wartosci R2 dla zarażonych')\n",
    "ax[1,0].set_ylim([0, 1])\n",
    "ax[1,1].plot(range(days_num), wartosci_p, 'bo', markersize=3, label='p')\n",
    "ax[1,1].title.set_text('Wartosci p dla zarażonych')\n",
    "ax[1,1].set_yscale(\"log\")"
   ]
  },
  {
   "cell_type": "code",
   "execution_count": null,
   "id": "d1ab11ae",
   "metadata": {},
   "outputs": [],
   "source": [
    "#Wykres wykładnika skalowania dla śmierci i (nachylenia prostej) w zależności od kolejnych dni pandemicznych\n",
    "#+ wykresy jakości dopasowania (dla zależności od gęstości populacji) (log-log)\n",
    "\n",
    "days_num = 600\n",
    "wykladniki = []\n",
    "wartosci_R2 = []\n",
    "wartosci_p = []\n",
    "wartosci_b = []\n",
    "for i in range(days_num):\n",
    "    x = deaths.loc[deaths['pandemic_day'] == i, 'density_ppl_per_ha']\n",
    "    y = deaths.loc[deaths['pandemic_day'] == i, 'dead_total']\n",
    "    #a = fit_loglog(x, y)\n",
    "    a, b, r, p = fit_loglog_scipy(x, y)\n",
    "    wykladniki.append(a)\n",
    "    wartosci_b.append(b)\n",
    "    wartosci_R2.append(r*r)\n",
    "    wartosci_p.append(p)\n",
    "\n",
    "fig, ax = plt.subplots(nrows=2, ncols=2, figsize=(18, 5))\n",
    "fig.subplots_adjust(left=0.2, hspace = 0.3)\n",
    "ax[0,0].plot(range(days_num), wykladniki, 'bo', markersize=3, label='a')\n",
    "ax[0,0].title.set_text('Wykładnik skalowania dla śmierci')\n",
    "ax[0,1].plot(range(days_num), wartosci_b, 'bo', markersize=3, label='b')\n",
    "ax[0,1].title.set_text('Wartosci b dla śmierci')\n",
    "ax[1,0].plot(range(days_num), wartosci_R2, 'bo', markersize=3, label='R2')\n",
    "ax[1,0].title.set_text('Wartosci R2 dla śmierci')\n",
    "ax[1,0].set_ylim([0, 1])\n",
    "ax[1,1].plot(range(days_num), wartosci_p, 'bo', markersize=3, label='p')\n",
    "ax[1,1].title.set_text('Wartosci p dla śmierci')\n",
    "ax[1,1].set_yscale(\"log\")"
   ]
  },
  {
   "cell_type": "code",
   "execution_count": null,
   "id": "509755c5",
   "metadata": {},
   "outputs": [],
   "source": [
    "#Wykres całkowitej liczby przypadków per capita od populacji dla wybranego dnia pandemii\n",
    "\n",
    "# x = infections.loc[infections['pandemic_day'] == 200, 'population']\n",
    "# y = infections.loc[infections['pandemic_day'] == 200, 'infected_total']\n",
    "\n",
    "# y = y / x\n",
    "# plt.plot(x, y, 'bo')\n",
    "# plt.title(\"200 dni od 2 przypadków\")\n",
    "# plt.yscale(\"log\")\n",
    "# plt.xscale(\"log\")\n",
    "# plt.xlabel('Populacja')\n",
    "# plt.ylabel('Liczba zakażeń per capita')"
   ]
  },
  {
   "cell_type": "code",
   "execution_count": null,
   "id": "32f777b6",
   "metadata": {},
   "outputs": [],
   "source": [
    "#Wykres całkowitej liczby śmierci per capita od populacji dla pierwszego dnia pandemii\n",
    "\n",
    "# x = deaths.loc[deaths['pandemic_day'] == 200, 'population']\n",
    "# y = deaths.loc[deaths['pandemic_day'] == 200, 'dead_total']\n",
    "\n",
    "# y = y / x\n",
    "# plt.plot(x, y, 'bo')\n",
    "# plt.title(\"200 dni od 2 przypadków\")\n",
    "# plt.yscale(\"log\")\n",
    "# plt.xscale(\"log\")\n",
    "# plt.xlabel('Populacja')\n",
    "# plt.ylabel('Liczba zgonów per capita')"
   ]
  }
 ],
 "metadata": {
  "kernelspec": {
   "display_name": "Python 3 (ipykernel)",
   "language": "python",
   "name": "python3"
  },
  "language_info": {
   "codemirror_mode": {
    "name": "ipython",
    "version": 3
   },
   "file_extension": ".py",
   "mimetype": "text/x-python",
   "name": "python",
   "nbconvert_exporter": "python",
   "pygments_lexer": "ipython3",
   "version": "3.9.7"
  }
 },
 "nbformat": 4,
 "nbformat_minor": 5
}

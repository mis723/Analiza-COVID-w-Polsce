{
 "cells": [
  {
   "cell_type": "code",
   "execution_count": 1,
   "id": "67f8e8e2",
   "metadata": {},
   "outputs": [],
   "source": [
    "#full printing\n",
    "def print_full(x):\n",
    "    pd.set_option('display.max_rows', len(x))\n",
    "    print(x)\n",
    "    pd.reset_option('display.max_rows')\n",
    "\n",
    "def print_how_many(x, rows):\n",
    "    pd.set_option('display.max_rows', rows)\n",
    "    print(x)\n",
    "    pd.reset_option('display.max_rows')"
   ]
  },
  {
   "cell_type": "code",
   "execution_count": 2,
   "id": "8329c718",
   "metadata": {},
   "outputs": [],
   "source": [
    "#data editing in dataframes\n",
    "def edit_pop(x):\n",
    "    x = x.replace(\"\\t\", \"\")\n",
    "    x = x.replace(\" \", \"\")\n",
    "    x = x.replace(\"Woj.\", \"\")\n",
    "    x = x.replace(\"M.\", \"\")\n",
    "    return x\n",
    "\n",
    "def edit_inf(x):\n",
    "    x = x.replace(\"Powiat \", \"\")\n",
    "    x = x.replace(\" \", \"\")\n",
    "    x = x.replace(\"st.\", \"\")\n",
    "    x = x.replace(\"m.\", \"\")\n",
    "    return x\n",
    "\n",
    "def edit_new(x):\n",
    "    x = x.replace(\"\\t\", \"\")\n",
    "    x = x.replace(\" \", \"\")\n",
    "    x = x.replace(\"st.\", \"\")\n",
    "    x = x.replace(\"m.\", \"\")\n",
    "    x = x.replace(\"Woj.\", \"\")\n",
    "    return x"
   ]
  },
  {
   "cell_type": "code",
   "execution_count": 3,
   "id": "6960af2b",
   "metadata": {},
   "outputs": [],
   "source": [
    "def fit_linlin_scipy(x, y):\n",
    "\n",
    "    idx = np.isnan(y)\n",
    "    slope, intercept, r_value, p_value, std_err = stats.linregress(x[~idx],y[~idx])\n",
    "    \n",
    "    return slope, intercept, r_value, p_value"
   ]
  },
  {
   "cell_type": "code",
   "execution_count": 4,
   "id": "a1b808bb",
   "metadata": {},
   "outputs": [],
   "source": [
    "#obsolete, teraz używam stats.linregress\n",
    "#maybe delete\n",
    "def fit_loglog(x, y):\n",
    "\n",
    "    idx = np.isnan(y)\n",
    "    xlog = np.log10(x)\n",
    "    ylog = np.log10(y)\n",
    "\n",
    "    a, b = np.polyfit(xlog[~idx],ylog[~idx],1)\n",
    "    return a"
   ]
  },
  {
   "cell_type": "code",
   "execution_count": 5,
   "id": "78af0962",
   "metadata": {},
   "outputs": [],
   "source": [
    "def fit_loglog_scipy(x, y):\n",
    "\n",
    "    idx = np.isnan(y)\n",
    "    xlog = np.log10(x)\n",
    "    ylog = np.log10(y)\n",
    "\n",
    "    slope, intercept, r_value, p_value, std_err = stats.linregress(xlog[~idx],ylog[~idx])\n",
    "    \n",
    "    return slope, intercept, r_value, p_value"
   ]
  },
  {
   "cell_type": "code",
   "execution_count": 6,
   "id": "b1955f75",
   "metadata": {},
   "outputs": [],
   "source": [
    "def fit_n_plot_linlin_scipy(x, y, title, yscale_label):\n",
    "\n",
    "    plt.plot(x, y, 'bo')\n",
    "    plt.title(title)\n",
    "    plt.xlabel('Populacja')\n",
    "    plt.ylabel(yscale_label)\n",
    "\n",
    "    idx = np.isnan(y)\n",
    "    \n",
    "    slope, intercept, r_value, p_value, std_err = stats.linregress(x[~idx],y[~idx])\n",
    "    plt.plot(x, slope * x + intercept, color='red')\n",
    "    return slope, intercept, r_value, p_value, std_err"
   ]
  },
  {
   "cell_type": "code",
   "execution_count": 7,
   "id": "f88b83f3",
   "metadata": {},
   "outputs": [],
   "source": [
    "# dopasowanko prostej w skali log-log i wyplotowanie\n",
    "#obsolete, teraz używam stats.linregress\n",
    "#maybe delete\n",
    "\n",
    "def fit_n_plot_loglog(x, y, title, yscale_label):\n",
    "\n",
    "    plt.plot(x, y, 'bo')\n",
    "    plt.title(title)\n",
    "    plt.yscale(\"log\")\n",
    "    plt.xscale(\"log\")\n",
    "    plt.xlabel('Populacja')\n",
    "    plt.ylabel(yscale_label)\n",
    "\n",
    "    idx = np.isnan(y)\n",
    "    xlog = np.log10(x)\n",
    "    ylog = np.log10(y)\n",
    "    \n",
    "    a, b = np.polyfit(xlog[~idx],ylog[~idx],1)\n",
    "    plt.plot(x, pow(x, a) * pow(10, b), color='red')\n",
    "    return a, b"
   ]
  },
  {
   "cell_type": "code",
   "execution_count": 8,
   "id": "f288afa9",
   "metadata": {},
   "outputs": [],
   "source": [
    "# dopasowanko prostej w skali log-log i wyplotowanie\n",
    "\n",
    "def fit_n_plot_loglog_scipy(x, y, title, yscale_label):\n",
    "\n",
    "    plt.plot(x, y, 'bo')\n",
    "    plt.title(title)\n",
    "    plt.yscale(\"log\")\n",
    "    plt.xscale(\"log\")\n",
    "    plt.xlabel('Populacja')\n",
    "    plt.ylabel(yscale_label)\n",
    "\n",
    "    idx = np.isnan(y)\n",
    "    xlog = np.log10(x)\n",
    "    ylog = np.log10(y)\n",
    "    \n",
    "    slope, intercept, r_value, p_value, std_err = stats.linregress(xlog[~idx],ylog[~idx])\n",
    "    plt.plot(x, pow(x, slope) * pow(10, intercept), color='red')\n",
    "    return slope, intercept, r_value, p_value, std_err"
   ]
  },
  {
   "cell_type": "code",
   "execution_count": 9,
   "id": "bd18c5e4",
   "metadata": {},
   "outputs": [],
   "source": [
    "# funkcja porównująca listy, była kiedyś potrzebna\n",
    "def compare(s, t):\n",
    "    t = list(t)   # make a mutable copy\n",
    "    try:\n",
    "        for elem in s:\n",
    "            t.remove(elem)\n",
    "    except ValueError:\n",
    "        return False\n",
    "    return t\n",
    "\n",
    "#s = infections.loc[infections['date'] == '2020-08-25', 'district'].to_list()\n",
    "\n",
    "#print(compare(s, t))\n",
    "\n",
    "#ok czyli jest git tutaj, wszystkie powiaty bierę pod uwagę"
   ]
  }
 ],
 "metadata": {
  "kernelspec": {
   "display_name": "Python 3 (ipykernel)",
   "language": "python",
   "name": "python3"
  },
  "language_info": {
   "codemirror_mode": {
    "name": "ipython",
    "version": 3
   },
   "file_extension": ".py",
   "mimetype": "text/x-python",
   "name": "python",
   "nbconvert_exporter": "python",
   "pygments_lexer": "ipython3",
   "version": "3.9.7"
  }
 },
 "nbformat": 4,
 "nbformat_minor": 5
}

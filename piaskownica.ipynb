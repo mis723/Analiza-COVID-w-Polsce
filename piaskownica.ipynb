{
 "cells": [
  {
   "cell_type": "code",
   "execution_count": 1,
   "id": "4a8d9133",
   "metadata": {},
   "outputs": [],
   "source": [
    "import numpy as np\n",
    "import matplotlib.pyplot as plt\n",
    "from scipy import stats\n",
    "import pandas as pd\n",
    "from sklearn.linear_model import LinearRegression\n",
    "import statsmodels.api as sm"
   ]
  },
  {
   "cell_type": "code",
   "execution_count": 1,
   "id": "32450798",
   "metadata": {},
   "outputs": [],
   "source": [
    "%run funkcje.ipynb"
   ]
  },
  {
   "cell_type": "code",
   "execution_count": 2,
   "id": "2388c608",
   "metadata": {},
   "outputs": [],
   "source": [
    "# x = np.array([5, 15, 25, 35, 45, 55]).reshape((-1, 1))\n",
    "# #x = np.array([5, 15, 25, 35, 45, 55])\n",
    "# y = np.array([5, 20, 14, 32, 22, 38])\n",
    "\n",
    "# model = LinearRegression(fit_intercept = True).fit(x, y)\n",
    "\n",
    "# r_sq = model.score(x, y)\n",
    "# print('coefficient of determination:', r_sq)\n",
    "# print('intercept:', model.intercept_)\n",
    "# print('slope:', model.coef_[0])\n",
    "# y_pred = model.predict(x)\n",
    "# print('predicted response:', y_pred, sep='\\n')\n",
    "\n",
    "# plt.plot(x, y, 'bo', markersize=3)\n",
    "# plt.plot(x, y_pred, color='red')"
   ]
  },
  {
   "cell_type": "code",
   "execution_count": 3,
   "id": "38be5127",
   "metadata": {},
   "outputs": [
    {
     "name": "stdout",
     "output_type": "stream",
     "text": [
      "[5.87187269 0.17009801]\n",
      "predicted response:\n",
      "[ 8.33333333 13.73333333 19.13333333 24.53333333 29.93333333 35.33333333\n",
      " 41.81333333]\n",
      "coefficient of determination: 0.7158756137479543\n",
      "adjusted coefficient of determination: 0.6448445171849428\n",
      "regression coefficients (intercept, slope): [5.63333333 0.54      ]\n",
      "[[ 1.  5.]\n",
      " [ 1. 15.]\n",
      " [ 1. 25.]\n",
      " [ 1. 35.]\n",
      " [ 1. 45.]\n",
      " [ 1. 55.]\n",
      " [ 1. 67.]]\n"
     ]
    },
    {
     "data": {
      "text/plain": [
       "[<matplotlib.lines.Line2D at 0x2165b65c910>]"
      ]
     },
     "execution_count": 3,
     "metadata": {},
     "output_type": "execute_result"
    },
    {
     "data": {
      "image/png": "[encoded data removed]",
      "text/plain": [
       "<Figure size 432x288 with 1 Axes>"
      ]
     },
     "metadata": {
      "needs_background": "light"
     },
     "output_type": "display_data"
    }
   ],
   "source": [
    "x = np.array([5, 15, 25, 35, 45, 55, 67])\n",
    "y = np.array([5, 20, 14, 32, 22, 38, float(\"NaN\")])\n",
    "idx = np.isnan(y)\n",
    "x = sm.add_constant(x) #comment to not include intercept\n",
    "model = sm.OLS(y[~idx],x[~idx])\n",
    "results = model.fit()\n",
    "# results.summary()\n",
    "\n",
    "print(results.bse)\n",
    "\n",
    "print('predicted response:', results.predict(x), sep='\\n')\n",
    "print('coefficient of determination:', results.rsquared)\n",
    "print('adjusted coefficient of determination:', results.rsquared_adj)\n",
    "print('regression coefficients (intercept, slope):', results.params)\n",
    "print(x)\n",
    "\n",
    "plt.plot(x[:,1], y, 'bo', markersize=3)\n",
    "plt.plot(x[:,1], results.predict(x), color='red')"
   ]
  },
  {
   "cell_type": "code",
   "execution_count": 4,
   "id": "0313f186",
   "metadata": {},
   "outputs": [
    {
     "name": "stdout",
     "output_type": "stream",
     "text": [
      "[ 1. 15.]\n"
     ]
    }
   ],
   "source": [
    "x\n",
    "print(x[1])"
   ]
  },
  {
   "cell_type": "code",
   "execution_count": 5,
   "id": "f96ce880",
   "metadata": {},
   "outputs": [],
   "source": [
    "def fit_n_plot_linlin_scipy(x, y, title, xscale_tabel, yscale_label):\n",
    "\n",
    "    plt.plot(x, y, 'bo', markersize=3)\n",
    "    plt.title(title)\n",
    "    plt.xlabel(xscale_tabel)\n",
    "    plt.ylabel(yscale_label)\n",
    "    #plt.xscale(\"log\")\n",
    "\n",
    "    idx = np.isnan(y)\n",
    "    \n",
    "    slope, intercept, r_value, p_value, std_err = stats.linregress(x[~idx],y[~idx])\n",
    "    plt.plot(x, slope * x + intercept, color='red')\n",
    "    return slope, intercept, r_value, p_value, std_err"
   ]
  },
  {
   "cell_type": "code",
   "execution_count": 6,
   "id": "79fb2628",
   "metadata": {},
   "outputs": [],
   "source": [
    "# dopasowanko prostej w skali log-log i wyplotowanie\n",
    "\n",
    "def fit_n_plot_loglog_scipy(x, y, title, xscale_label, yscale_label):\n",
    "\n",
    "    plt.plot(x, y, 'bo', markersize=3)\n",
    "    plt.title(title)\n",
    "    plt.yscale(\"log\")\n",
    "    plt.xscale(\"log\")\n",
    "    plt.xlabel(xscale_label)\n",
    "    plt.ylabel(yscale_label)\n",
    "\n",
    "    idx = np.isnan(y)\n",
    "    xlog = np.log10(x)\n",
    "    ylog = np.log10(y)\n",
    "    \n",
    "    slope, intercept, r_value, p_value, std_err = stats.linregress(xlog[~idx],ylog[~idx])\n",
    "    plt.plot(x, pow(x, slope) * pow(10, intercept), color='red')\n",
    "    return slope, intercept, r_value, p_value, std_err"
   ]
  },
  {
   "cell_type": "code",
   "execution_count": 7,
   "id": "0b88b20f",
   "metadata": {},
   "outputs": [],
   "source": [
    "x = np.array(range(1, 21), dtype='float64')\n",
    "y = x+3\n",
    "rng = np.random.default_rng()\n",
    "y += 4 * rng.random(20)"
   ]
  },
  {
   "cell_type": "code",
   "execution_count": 8,
   "id": "a28841e6",
   "metadata": {},
   "outputs": [
    {
     "data": {
      "text/plain": [
       "(1.0104103581751251,\n",
       " 5.144095172240721,\n",
       " 0.9820061210619387,\n",
       " 1.7596614396827778e-14,\n",
       " 0.04579965801347775)"
      ]
     },
     "execution_count": 8,
     "metadata": {},
     "output_type": "execute_result"
    },
    {
     "data": {
      "image/png": "[encoded data removed]",
      "text/plain": [
       "<Figure size 432x288 with 1 Axes>"
      ]
     },
     "metadata": {
      "needs_background": "light"
     },
     "output_type": "display_data"
    }
   ],
   "source": [
    "fit_n_plot_linlin_scipy(x, y, 'bla', 'bla', 'bla')"
   ]
  },
  {
   "cell_type": "code",
   "execution_count": 9,
   "id": "ada8f615",
   "metadata": {},
   "outputs": [
    {
     "data": {
      "text/plain": [
       "(0.5154466391411165,\n",
       " 0.6872094030739944,\n",
       " 0.9521818188521569,\n",
       " 1.0431922275289915e-10,\n",
       " 0.038983805656452465)"
      ]
     },
     "execution_count": 9,
     "metadata": {},
     "output_type": "execute_result"
    },
    {
     "data": {
      "image/png": "[encoded data removed]",
      "text/plain": [
       "<Figure size 432x288 with 1 Axes>"
      ]
     },
     "metadata": {
      "needs_background": "light"
     },
     "output_type": "display_data"
    }
   ],
   "source": [
    "fit_n_plot_loglog_scipy(x, y, 'bla', 'bla', 'bla')"
   ]
  },
  {
   "cell_type": "code",
   "execution_count": 10,
   "id": "39ad6ef3",
   "metadata": {},
   "outputs": [
    {
     "name": "stdout",
     "output_type": "stream",
     "text": [
      "nan\n"
     ]
    }
   ],
   "source": [
    "a = 1\n",
    "b = 2\n",
    "c = float(\"NaN\")\n",
    "print(np.mean((a, b, c)))"
   ]
  },
  {
   "cell_type": "code",
   "execution_count": 11,
   "id": "bd0d3c1b",
   "metadata": {},
   "outputs": [
    {
     "name": "stdout",
     "output_type": "stream",
     "text": [
      "0         NaN\n",
      "1    2.000000\n",
      "2    4.000000\n",
      "3    6.333333\n",
      "4         NaN\n",
      "dtype: float64\n",
      "[nan, 2.0, 4.0, 6.333333333333333, nan]\n",
      "[4.0, 6.333333333333333, nan]\n"
     ]
    }
   ],
   "source": [
    "numbers = [1, 2, 3, 7, 9]\n",
    "window_size = 3\n",
    "\n",
    "numbers_series = pd.Series(numbers)\n",
    "windows = numbers_series.rolling(window_size, center=True)\n",
    "moving_averages = windows.mean()\n",
    "\n",
    "moving_averages_list = moving_averages.tolist()\n",
    "without_nans = moving_averages_list[window_size - 1:]\n",
    "print(moving_averages)\n",
    "print(moving_averages_list)\n",
    "print(without_nans)"
   ]
  },
  {
   "cell_type": "code",
   "execution_count": 12,
   "id": "0e52a788",
   "metadata": {},
   "outputs": [],
   "source": [
    "def fit_n_plot_lin_n_log_statsmodels(x, y, title, xscale_label, yscale_label):\n",
    "    \n",
    "    idx = np.isnan(y)\n",
    "    y = y[~idx]\n",
    "    x = x[~idx]\n",
    "    plt.plot(x, y, 'bo', markersize=3, label='dane')\n",
    "    plt.title(title)\n",
    "    plt.yscale(\"log\")\n",
    "    plt.xscale(\"log\")\n",
    "    plt.xlabel(xscale_label)\n",
    "    plt.ylabel(yscale_label)\n",
    "    \n",
    "    #x = sm.add_constant(x[~idx]) #comment to not include intercept\n",
    "    model1 = sm.OLS(y,x)\n",
    "    results1 = model1.fit()\n",
    "    plt.plot(x, results1.predict(x), color='red', label='liniowa, $R^2 = $'+\"{:.2f}\".format(results1.rsquared))\n",
    "    \n",
    "    xlog = np.log10(x)\n",
    "    ylog = np.log10(y)\n",
    "    x = sm.add_constant(x)\n",
    "    xlog = sm.add_constant(xlog)\n",
    "    \n",
    "    model2 = sm.OLS(ylog,xlog)\n",
    "    results2 = model2.fit()\n",
    "    y_pred2 = pow(10, results2.predict(xlog))\n",
    "    \n",
    "    plt.plot(x.loc[:, x.columns != 'const'], pow(10, results2.predict(xlog)), color='black', label='log, $R^2 = $'+\"{:.2f}\".format(results2.rsquared)+', a = '+ \"{:.2f}\".format(results2.params[1]))\n",
    "    plt.legend()\n",
    "    \n",
    "    # edit returns\n",
    "    return results2.params[1], results2.params[0], results2.bse[1], results2.rsquared, results2.rsquared_adj, results2.pvalues[0]"
   ]
  },
  {
   "cell_type": "code",
   "execution_count": 14,
   "id": "716858df",
   "metadata": {},
   "outputs": [
    {
     "name": "stdout",
     "output_type": "stream",
     "text": [
      "8.0\n",
      "7.0\n",
      "2.0958166237612903\n",
      "0.05380794063551247\n",
      "S_lin = 4.392447320434173\n",
      "S_log = 0.0028952944754348335\n"
     ]
    },
    {
     "data": {
      "image/png": "[encoded data removed]",
      "text/plain": [
       "<Figure size 432x288 with 1 Axes>"
      ]
     },
     "metadata": {
      "needs_background": "light"
     },
     "output_type": "display_data"
    }
   ],
   "source": [
    "x = np.array(range(1, 10), dtype='float64')\n",
    "y = x+3\n",
    "rng = np.random.default_rng()\n",
    "y += 4 * rng.random(9)\n",
    "\n",
    "plt.plot(x, y, 'bo', markersize=3, label='dane')\n",
    "plt.yscale(\"log\")\n",
    "plt.xscale(\"log\")\n",
    "\n",
    "#x = sm.add_constant(x[~idx]) #comment to not include intercept\n",
    "model1 = sm.OLS(y,x)\n",
    "results1 = model1.fit()\n",
    "plt.plot(x, results1.predict(x), color='red', label='liniowa, $R^2 = $'+\"{:.2f}\".format(results1.rsquared))\n",
    "\n",
    "xlog = np.log10(x)\n",
    "ylog = np.log10(y)\n",
    "x = sm.add_constant(x)\n",
    "xlog = sm.add_constant(xlog)\n",
    "\n",
    "model2 = sm.OLS(ylog,xlog)\n",
    "results2 = model2.fit()\n",
    "y_pred2 = pow(10, results2.predict(xlog))\n",
    "\n",
    "plt.plot(x[:, 1], pow(10, results2.predict(xlog)), color='black', label='log, $R^2 = $'+\"{:.2f}\".format(results2.rsquared)+', a = '+ \"{:.2f}\".format(results2.params[1]))\n",
    "plt.legend()\n",
    "\n",
    "# print(results1.resid)\n",
    "# print(results2.resid)\n",
    "\n",
    "print(results1.df_resid)\n",
    "print(results2.df_resid)\n",
    "\n",
    "print((results1.ssr/results1.df_resid)**(1/2))\n",
    "print((results2.ssr/results2.df_resid)**(1/2))\n",
    "\n",
    "\n",
    "\n",
    "\n",
    "# edit returns\n",
    "#return results2.params[1], results2.params[0], results2.bse[1], results2.rsquared, results2.rsquared_adj, results2.pvalues[0]\n"
   ]
  },
  {
   "cell_type": "code",
   "execution_count": null,
   "id": "78d86245",
   "metadata": {},
   "outputs": [],
   "source": []
  }
 ],
 "metadata": {
  "kernelspec": {
   "display_name": "Python 3 (ipykernel)",
   "language": "python",
   "name": "python3"
  },
  "language_info": {
   "codemirror_mode": {
    "name": "ipython",
    "version": 3
   },
   "file_extension": ".py",
   "mimetype": "text/x-python",
   "name": "python",
   "nbconvert_exporter": "python",
   "pygments_lexer": "ipython3",
   "version": "3.9.7"
  }
 },
 "nbformat": 4,
 "nbformat_minor": 5
}
